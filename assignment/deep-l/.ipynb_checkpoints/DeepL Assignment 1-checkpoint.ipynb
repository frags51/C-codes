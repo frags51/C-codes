{
 "cells": [
  {
   "cell_type": "markdown",
   "metadata": {},
   "source": [
    "# Question 1"
   ]
  },
  {
   "cell_type": "markdown",
   "metadata": {},
   "source": [
    "Code for NCC:"
   ]
  },
  {
   "cell_type": "code",
   "execution_count": 43,
   "metadata": {},
   "outputs": [],
   "source": [
    "import numpy as np\n",
    "import scipy as sp"
   ]
  },
  {
   "cell_type": "code",
   "execution_count": 79,
   "metadata": {},
   "outputs": [],
   "source": [
    "# Assuming zero padded image. \n",
    "def my_ncc(im_in, kernel):\n",
    "    # 2k+1 x 2k+1 matrix\n",
    "    k = (int(kernel.shape[0]/2))\n",
    "    \n",
    "    im_out = np.zeros(im_in.shape)\n",
    "    \n",
    "    for i in range(k, im_in.shape[0]-k):\n",
    "        for j in range(k, im_in.shape[0]-k):\n",
    "                        \n",
    "            p_sum = 0\n",
    "            \n",
    "#             b = []\n",
    "            \n",
    "#             for ii in range(-k, k+1):\n",
    "#                 for jj in range(-k, k+1):\n",
    "#                     i_idx = i+ii\n",
    "#                     j_idx = j+jj\n",
    "#                     if (i_idx) < 0 or (i_idx) >=im_in.shape[0] or j_idx < 0 or (j_idx) >=im_in.shape[0]:\n",
    "#                         b.append(0)\n",
    "#                     else:\n",
    "#                         b.append(im_in[i+ii][j+jj])\n",
    "            \n",
    "            ncc_mean = 0\n",
    "            ncc_std = 1\n",
    "            \n",
    "            \n",
    "            for ii in range(-k, k+1):\n",
    "                for jj in range(-k, k+1):\n",
    "                    i_idx = i+ii\n",
    "                    j_idx = j+jj\n",
    "                    \n",
    "                    # Result is padding the image with 0 pixels\n",
    "#                     if (i_idx) < 0 or (i_idx) >=im_in.shape[0] or j_idx < 0 or (j_idx) >=im_in.shape[0]:\n",
    "#                         continue\n",
    "                    p_sum += kernel[k+ii][k+jj]*(im_in[i+ii][j+jj]-ncc_mean)/ncc_std\n",
    "            \n",
    "            im_out[i][j] = p_sum\n",
    "    \n",
    "    return im_out"
   ]
  },
  {
   "cell_type": "code",
   "execution_count": 82,
   "metadata": {},
   "outputs": [],
   "source": [
    "import numpy as np\n",
    "def my_pad(im, size):\n",
    "    np.pad(im, [size,size], mode='constant', constant_values=[0,0])"
   ]
  },
  {
   "cell_type": "markdown",
   "metadata": {},
   "source": [
    "## (B)"
   ]
  },
  {
   "cell_type": "code",
   "execution_count": 80,
   "metadata": {},
   "outputs": [
    {
     "name": "stdout",
     "output_type": "stream",
     "text": [
      "(1063, 1250)\n"
     ]
    }
   ],
   "source": [
    "import matplotlib.pyplot as plt\n",
    "q1_b_in = plt.imread('u2cuba.jpg')\n",
    "q1_b_t = plt.imread('trailer.png')\n",
    "\n",
    "def rgb2gray(rgb):\n",
    "    return np.dot(rgb[...,:3], [0.2989, 0.5870, 0.1140])\n",
    "\n",
    "print(rgb2gray(q1_b_in).shape)"
   ]
  },
  {
   "cell_type": "code",
   "execution_count": null,
   "metadata": {},
   "outputs": [],
   "source": []
  },
  {
   "cell_type": "code",
   "execution_count": 81,
   "metadata": {},
   "outputs": [
    {
     "ename": "KeyboardInterrupt",
     "evalue": "",
     "output_type": "error",
     "traceback": [
      "\u001b[0;31m---------------------------------------------------------------------------\u001b[0m",
      "\u001b[0;31mKeyboardInterrupt\u001b[0m                         Traceback (most recent call last)",
      "\u001b[0;32m<ipython-input-81-c839e3370bc7>\u001b[0m in \u001b[0;36m<module>\u001b[0;34m\u001b[0m\n\u001b[0;32m----> 1\u001b[0;31m \u001b[0mq1_b_out\u001b[0m \u001b[0;34m=\u001b[0m \u001b[0mmy_ncc\u001b[0m\u001b[0;34m(\u001b[0m\u001b[0mrgb2gray\u001b[0m\u001b[0;34m(\u001b[0m\u001b[0mq1_b_in\u001b[0m\u001b[0;34m)\u001b[0m\u001b[0;34m,\u001b[0m \u001b[0mrgb2gray\u001b[0m\u001b[0;34m(\u001b[0m\u001b[0mq1_b_t\u001b[0m\u001b[0;34m)\u001b[0m\u001b[0;34m)\u001b[0m\u001b[0;34m\u001b[0m\u001b[0;34m\u001b[0m\u001b[0m\n\u001b[0m",
      "\u001b[0;32m<ipython-input-79-58a7b9ed84d0>\u001b[0m in \u001b[0;36mmy_ncc\u001b[0;34m(im_in, kernel)\u001b[0m\n\u001b[1;32m     33\u001b[0m \u001b[0;31m#                     if (i_idx) < 0 or (i_idx) >=im_in.shape[0] or j_idx < 0 or (j_idx) >=im_in.shape[0]:\u001b[0m\u001b[0;34m\u001b[0m\u001b[0;34m\u001b[0m\u001b[0;34m\u001b[0m\u001b[0m\n\u001b[1;32m     34\u001b[0m \u001b[0;31m#                         continue\u001b[0m\u001b[0;34m\u001b[0m\u001b[0;34m\u001b[0m\u001b[0;34m\u001b[0m\u001b[0m\n\u001b[0;32m---> 35\u001b[0;31m                     \u001b[0mp_sum\u001b[0m \u001b[0;34m+=\u001b[0m \u001b[0mkernel\u001b[0m\u001b[0;34m[\u001b[0m\u001b[0mk\u001b[0m\u001b[0;34m+\u001b[0m\u001b[0mii\u001b[0m\u001b[0;34m]\u001b[0m\u001b[0;34m[\u001b[0m\u001b[0mk\u001b[0m\u001b[0;34m+\u001b[0m\u001b[0mjj\u001b[0m\u001b[0;34m]\u001b[0m\u001b[0;34m*\u001b[0m\u001b[0;34m(\u001b[0m\u001b[0mim_in\u001b[0m\u001b[0;34m[\u001b[0m\u001b[0mi\u001b[0m\u001b[0;34m+\u001b[0m\u001b[0mii\u001b[0m\u001b[0;34m]\u001b[0m\u001b[0;34m[\u001b[0m\u001b[0mj\u001b[0m\u001b[0;34m+\u001b[0m\u001b[0mjj\u001b[0m\u001b[0;34m]\u001b[0m\u001b[0;34m-\u001b[0m\u001b[0mncc_mean\u001b[0m\u001b[0;34m)\u001b[0m\u001b[0;34m/\u001b[0m\u001b[0mncc_std\u001b[0m\u001b[0;34m\u001b[0m\u001b[0;34m\u001b[0m\u001b[0m\n\u001b[0m\u001b[1;32m     36\u001b[0m \u001b[0;34m\u001b[0m\u001b[0m\n\u001b[1;32m     37\u001b[0m             \u001b[0mim_out\u001b[0m\u001b[0;34m[\u001b[0m\u001b[0mi\u001b[0m\u001b[0;34m]\u001b[0m\u001b[0;34m[\u001b[0m\u001b[0mj\u001b[0m\u001b[0;34m]\u001b[0m \u001b[0;34m=\u001b[0m \u001b[0mp_sum\u001b[0m\u001b[0;34m\u001b[0m\u001b[0;34m\u001b[0m\u001b[0m\n",
      "\u001b[0;31mKeyboardInterrupt\u001b[0m: "
     ]
    }
   ],
   "source": [
    "q1_b_out = my_ncc(rgb2gray(q1_b_in), rgb2gray(q1_b_t))"
   ]
  },
  {
   "cell_type": "code",
   "execution_count": null,
   "metadata": {},
   "outputs": [],
   "source": []
  },
  {
   "cell_type": "markdown",
   "metadata": {},
   "source": [
    "# Question 2"
   ]
  },
  {
   "cell_type": "markdown",
   "metadata": {},
   "source": [
    "The input image is padded with '0' pixels as necessary"
   ]
  },
  {
   "cell_type": "code",
   "execution_count": 1,
   "metadata": {},
   "outputs": [],
   "source": [
    "import numpy as np"
   ]
  },
  {
   "cell_type": "code",
   "execution_count": 18,
   "metadata": {},
   "outputs": [],
   "source": [
    "# \n",
    "# Assuming an ODD x ODD Kernel\n",
    "# Arguments: 2 np (matrices)\n",
    "def my_conv2d(im_in, kernel):\n",
    "    # 2k+1 x 2k+1 matrix\n",
    "    k = (int(kernel.shape[0]/2))\n",
    "    \n",
    "    im_out = np.zeros(im_in.shape)\n",
    "    \n",
    "    for i in range(0, im_in.shape[0]):\n",
    "        for j in range(0, im_in.shape[0]):\n",
    "            p_sum = 0\n",
    "            \n",
    "            for ii in range(-k, k+1):\n",
    "                for jj in range(-k, k+1):\n",
    "                    i_idx = i-ii\n",
    "                    j_idx = j-jj\n",
    "                    \n",
    "                    # Result is padding the image with 0 pixels\n",
    "                    if (i_idx) < 0 or (i_idx) >=im_in.shape[0] or j_idx < 0 or (j_idx) >=im_in.shape[0]:\n",
    "                        continue\n",
    "                    p_sum += kernel[k+ii][k+jj]*im_in[i-ii][j-jj]\n",
    "            \n",
    "            im_out[i][j] = p_sum\n",
    "    \n",
    "    return im_out\n",
    "    \n"
   ]
  },
  {
   "cell_type": "code",
   "execution_count": 19,
   "metadata": {},
   "outputs": [
    {
     "data": {
      "text/plain": [
       "array([[1., 2., 3., 4., 5.],\n",
       "       [1., 2., 3., 4., 5.],\n",
       "       [1., 2., 3., 4., 5.],\n",
       "       [1., 2., 3., 4., 5.],\n",
       "       [1., 2., 3., 4., 5.]])"
      ]
     },
     "execution_count": 19,
     "metadata": {},
     "output_type": "execute_result"
    }
   ],
   "source": [
    "my_conv2d(np.array([[1,2,3,4,5], [1,2,3,4,5],[1,2,3,4,5],[1,2,3,4,5],[1,2,3,4,5]]), np.array([[0,0,0], [0,1,0], [0,0,0]]))"
   ]
  },
  {
   "cell_type": "code",
   "execution_count": null,
   "metadata": {},
   "outputs": [],
   "source": []
  }
 ],
 "metadata": {
  "kernelspec": {
   "display_name": "Python 3",
   "language": "python",
   "name": "python3"
  },
  "language_info": {
   "codemirror_mode": {
    "name": "ipython",
    "version": 3
   },
   "file_extension": ".py",
   "mimetype": "text/x-python",
   "name": "python",
   "nbconvert_exporter": "python",
   "pygments_lexer": "ipython3",
   "version": "3.7.3"
  },
  "latex_envs": {
   "LaTeX_envs_menu_present": true,
   "autoclose": false,
   "autocomplete": true,
   "bibliofile": "biblio.bib",
   "cite_by": "apalike",
   "current_citInitial": 1,
   "eqLabelWithNumbers": true,
   "eqNumInitial": 1,
   "hotkeys": {
    "equation": "Ctrl-E",
    "itemize": "Ctrl-I"
   },
   "labels_anchors": false,
   "latex_user_defs": false,
   "report_style_numbering": false,
   "user_envs_cfg": false
  },
  "toc": {
   "base_numbering": 1,
   "nav_menu": {},
   "number_sections": true,
   "sideBar": true,
   "skip_h1_title": false,
   "title_cell": "Table of Contents",
   "title_sidebar": "Contents",
   "toc_cell": false,
   "toc_position": {},
   "toc_section_display": true,
   "toc_window_display": true
  }
 },
 "nbformat": 4,
 "nbformat_minor": 2
}
