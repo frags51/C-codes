{
 "cells": [
  {
   "cell_type": "markdown",
   "metadata": {},
   "source": [
    "# Q2\n",
    "## (A)\n",
    "\n",
    "$ \\frac{\\partial{E}}{\\partial{w1}} = \\lambda_1 w_1 $\n",
    "\n",
    "$ \\frac{\\partial{E}}{\\partial{w2}} = \\lambda_2 w_2 $\n",
    "\n",
    "\n",
    "$H = \\begin{bmatrix}\\lambda_1 & 0\\\\0 & \\lambda_2\\end{bmatrix}$\n",
    "\n",
    "Clearly, eigenvalues are $ \\lambda_1 and \\lambda_2 $ (Because, $ | H - kI | = 0 \\implies (\\lambda_1 - k)(\\lambda_2 - k) = 0 \\implies k = \\lambda_1, \\lambda_2 $ ). "
   ]
  },
  {
   "cell_type": "markdown",
   "metadata": {},
   "source": [
    "## (B)"
   ]
  },
  {
   "cell_type": "code",
   "execution_count": 6,
   "metadata": {},
   "outputs": [],
   "source": [
    "# Gradient descent, just for the given function!\n",
    "# w1, w2: Start vals, l1, l2: lambda1, lambda2 (the eigenvalues),\n",
    "# a: learnign rate, nItr : max iterations, e: precision\n",
    "\n",
    "def gradDesc(w1, w2, l1, l2, a = 0.1, nItr = 5000, e= 0.001):\n",
    "    i = -1\n",
    "    for i in range(nItr):\n",
    "        w1_ = w1\n",
    "        w2_ = w2\n",
    "        \n",
    "        w1 = w1_ - a*(l1*w1_)\n",
    "        w2 = w2_ - a*(l2*w2_)        \n",
    "        \n",
    "        change1 = w1-w1_\n",
    "        change2 = w2-w2_\n",
    "        \n",
    "        if abs(change1) <= e and abs(change2) <= e:\n",
    "            break\n",
    "        \n",
    "    \n",
    "    print(\"Minimized Error at (w1, w2), iterations = \", w1, w2, i)\n",
    "    \n",
    "    return w1, w2"
   ]
  },
  {
   "cell_type": "code",
   "execution_count": 42,
   "metadata": {},
   "outputs": [
    {
     "name": "stdout",
     "output_type": "stream",
     "text": [
      "Minimized Error at (w1, w2), iterations =  3.9260652577665435e-05 0.00048093678648715205 265\n"
     ]
    },
    {
     "data": {
      "text/plain": [
       "(3.9260652577665435e-05, 0.00048093678648715205)"
      ]
     },
     "execution_count": 42,
     "metadata": {},
     "output_type": "execute_result"
    }
   ],
   "source": [
    "gradDesc(25, 25, 1, 40, a=0.049)"
   ]
  },
  {
   "cell_type": "markdown",
   "metadata": {},
   "source": [
    "## Observations\n",
    "\n",
    "For ratio of eigenvalues = **10**, the largest value of learning rate that seems to reduce E seems to be around **0.199**.\n",
    "\n",
    "For ratio of eigenvalues = **20** (doubling the ratio), the largest value of learning rate that seems to reduce E seems to be around **0.099** - this is almost half of the value for the previous case.\n",
    "\n",
    "For ratio of eigenvalues = **40** (doubling the ratio again), the largest value of learning rate that seems to reduce E seems to be around **0.049** - this is again halved.\n",
    "\n",
    "It is evident that this largest value of the learning rate is determined by the ratio of eigen values!"
   ]
  },
  {
   "cell_type": "code",
   "execution_count": null,
   "metadata": {},
   "outputs": [],
   "source": []
  }
 ],
 "metadata": {
  "kernelspec": {
   "display_name": "Python 3",
   "language": "python",
   "name": "python3"
  },
  "language_info": {
   "codemirror_mode": {
    "name": "ipython",
    "version": 3
   },
   "file_extension": ".py",
   "mimetype": "text/x-python",
   "name": "python",
   "nbconvert_exporter": "python",
   "pygments_lexer": "ipython3",
   "version": "3.7.3"
  },
  "latex_envs": {
   "LaTeX_envs_menu_present": true,
   "autoclose": false,
   "autocomplete": true,
   "bibliofile": "biblio.bib",
   "cite_by": "apalike",
   "current_citInitial": 1,
   "eqLabelWithNumbers": true,
   "eqNumInitial": 1,
   "hotkeys": {
    "equation": "Ctrl-E",
    "itemize": "Ctrl-I"
   },
   "labels_anchors": false,
   "latex_user_defs": false,
   "report_style_numbering": false,
   "user_envs_cfg": false
  },
  "toc": {
   "base_numbering": 1,
   "nav_menu": {},
   "number_sections": true,
   "sideBar": true,
   "skip_h1_title": false,
   "title_cell": "Table of Contents",
   "title_sidebar": "Contents",
   "toc_cell": false,
   "toc_position": {},
   "toc_section_display": true,
   "toc_window_display": true
  }
 },
 "nbformat": 4,
 "nbformat_minor": 2
}
