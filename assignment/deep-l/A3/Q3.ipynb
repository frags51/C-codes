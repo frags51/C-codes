{
 "cells": [
  {
   "cell_type": "markdown",
   "metadata": {},
   "source": [
    "# Q3"
   ]
  },
  {
   "cell_type": "code",
   "execution_count": 261,
   "metadata": {},
   "outputs": [],
   "source": [
    "import torch\n",
    "from torch import nn\n",
    "import pandas as pd\n",
    "import torch.nn.functional as F\n",
    "from torchvision import datasets, transforms\n",
    "import numpy as np"
   ]
  },
  {
   "cell_type": "code",
   "execution_count": 41,
   "metadata": {},
   "outputs": [],
   "source": [
    "df_train = pd.read_csv('train_data.txt')\n",
    "df_test = pd.read_csv('test_data.txt')"
   ]
  },
  {
   "cell_type": "code",
   "execution_count": 42,
   "metadata": {},
   "outputs": [
    {
     "data": {
      "text/plain": [
       "8143"
      ]
     },
     "execution_count": 42,
     "metadata": {},
     "output_type": "execute_result"
    }
   ],
   "source": [
    "#df_test.columns\n",
    "df_train = df_train.drop(['date'], axis=1)\n",
    "df_test = df_test.drop(['date'], axis = 1)\n",
    "df_train.shape[0]"
   ]
  },
  {
   "cell_type": "markdown",
   "metadata": {},
   "source": [
    "## (A)"
   ]
  },
  {
   "cell_type": "code",
   "execution_count": 50,
   "metadata": {},
   "outputs": [],
   "source": [
    "# Layer sizes!\n",
    "n_input = 5\n",
    "H = 5 # Hidden layer size, not specified!\n",
    "n_output = 1"
   ]
  },
  {
   "cell_type": "code",
   "execution_count": 195,
   "metadata": {},
   "outputs": [],
   "source": [
    "# Sigmoid fxn on output: <0.5: Class '0', >0.5: class '1'\n",
    "class Network(nn.Module):\n",
    "    def __init__(self, H):\n",
    "        super().__init__()\n",
    "        \n",
    "        self.hidden = nn.Linear(5, H)\n",
    "        self.out = nn.Linear(H, 1)\n",
    "           \n",
    "        # activation function for hidden layer.\n",
    "        self.sigmoid = nn.Sigmoid()\n",
    "        \n",
    "    def forward(self, x):\n",
    "        # Pass the input tensor through each of our operations\n",
    "        x = self.hidden(x)\n",
    "        x = self.sigmoid(x)\n",
    "        x = self.out(x)\n",
    "        x = self.sigmoid(x)\n",
    "        \n",
    "        return x\n",
    "    "
   ]
  },
  {
   "cell_type": "code",
   "execution_count": null,
   "metadata": {},
   "outputs": [],
   "source": []
  },
  {
   "cell_type": "markdown",
   "metadata": {},
   "source": [
    "### Training"
   ]
  },
  {
   "cell_type": "code",
   "execution_count": 225,
   "metadata": {},
   "outputs": [],
   "source": [
    "criterion = nn.BCELoss()\n",
    "trainset = torch.Tensor(df_train.values)\n",
    "\n",
    "testset_without_labels = torch.Tensor(df_test.values[:,:-1])\n",
    "testset_labels = torch.Tensor(df_test.values[:,-1])"
   ]
  },
  {
   "cell_type": "code",
   "execution_count": 226,
   "metadata": {},
   "outputs": [
    {
     "name": "stdout",
     "output_type": "stream",
     "text": [
      "Training loss: 0.5399089455604553\n",
      "Training loss: 0.5381625294685364\n",
      "Training loss: 0.5364841818809509\n",
      "Training loss: 0.5350092649459839\n",
      "Training loss: 0.5336318612098694\n",
      "Training loss: 0.5323793292045593\n",
      "Training loss: 0.5311557054519653\n",
      "Training loss: 0.5300919413566589\n",
      "Training loss: 0.5291462540626526\n",
      "Training loss: 0.5282082557678223\n"
     ]
    }
   ],
   "source": [
    "trainloader = torch.utils.data.DataLoader(trainset, batch_size=df_train.shape[0], shuffle=True)\n",
    "m = Network(3)\n",
    "# Optimizers require the parameters to optimize and a learning rate\n",
    "optimizer = torch.optim.SGD(m.parameters(), lr=0.05)\n",
    "\n",
    "epochs = 10\n",
    "for e in range(epochs):\n",
    "    running_loss = 0\n",
    "    for images in trainloader:\n",
    "        #print(images.shape)\n",
    "        x = images[:,:-1]\n",
    "        labels = (images[:,-1])\n",
    "        \n",
    "        # Training pass\n",
    "        optimizer.zero_grad()\n",
    "        \n",
    "        output = m(x)\n",
    "#         print(output.shape)\n",
    "        \n",
    "        loss = criterion(output[:,0], labels)\n",
    "        loss.backward()\n",
    "        optimizer.step()\n",
    "        \n",
    "        running_loss += loss.item()\n",
    "    else:\n",
    "        print(f\"Training loss: {running_loss/len(trainloader)}\")"
   ]
  },
  {
   "cell_type": "markdown",
   "metadata": {},
   "source": [
    "## (B)\n",
    "\n",
    "Establishing baseline accuracy."
   ]
  },
  {
   "cell_type": "code",
   "execution_count": 229,
   "metadata": {},
   "outputs": [
    {
     "name": "stdout",
     "output_type": "stream",
     "text": [
      "0.893871009349823\n"
     ]
    }
   ],
   "source": [
    "# Need to apply sigmoid on these random predictions, do so directly with BCEWithLogitsLoss\n",
    "criterion_b = nn.BCEWithLogitsLoss()\n",
    "\n",
    "import random\n",
    "rand_preds = []\n",
    "\n",
    "for i in range(df_test.shape[0]):\n",
    "    p = 0\n",
    "    for j in range(5):\n",
    "        p+=random.randint(0,1)\n",
    "    if p>=3:\n",
    "        rand_preds.append(1)\n",
    "    else:\n",
    "        rand_preds.append(0)\n",
    "\n",
    "base_error = criterion_b(torch.Tensor(rand_preds ), testset_labels)\n",
    "print(base_error.item())"
   ]
  },
  {
   "cell_type": "code",
   "execution_count": 250,
   "metadata": {},
   "outputs": [],
   "source": [
    "# pred, target are vectors : pred has been activated by sigmoid function!\n",
    "def percentCorrect(pred, target):\n",
    "    assert(len(pred)== len(target))\n",
    "    cnt = 0\n",
    "    for i in range(len(pred)):\n",
    "        pClass = 0\n",
    "        if(pred[i] >= 0.5):\n",
    "            pClass = 1\n",
    "        if(pClass == target[i]):\n",
    "            cnt += 1\n",
    "            \n",
    "    return cnt/len(pred)"
   ]
  },
  {
   "cell_type": "markdown",
   "metadata": {},
   "source": [
    "### The baseline error is 0.8927"
   ]
  },
  {
   "cell_type": "markdown",
   "metadata": {},
   "source": [
    "## (C)\n",
    "\n",
    "H = 5, Batch Size = 100"
   ]
  },
  {
   "cell_type": "code",
   "execution_count": 315,
   "metadata": {},
   "outputs": [
    {
     "name": "stdout",
     "output_type": "stream",
     "text": [
      "Training % Correct : 93.14748864055016\n"
     ]
    }
   ],
   "source": [
    "c3_batchSize = 100;\n",
    "trainloader = torch.utils.data.DataLoader(trainset, batch_size=c3_batchSize, shuffle=True)\n",
    "\n",
    "tol = 0.0001\n",
    "\n",
    "m = Network(5)\n",
    "# Optimizers require the parameters to optimize and a learning rate\n",
    "optimizer = torch.optim.SGD(m.parameters(), lr=0.004)\n",
    "\n",
    "correct_class_train = 0\n",
    "\n",
    "train_losses = []\n",
    "\n",
    "epochs = 150\n",
    "\n",
    "labels = []\n",
    "output = []\n",
    "for e in range(epochs):\n",
    "    running_loss = 0\n",
    "    old_r_loss = 100000\n",
    "    running_correct = 0\n",
    "    for images in trainloader:\n",
    "        #print(images.shape)\n",
    "        x = images[:,:-1]\n",
    "        labels = (images[:,-1])\n",
    "        \n",
    "        # Training pass\n",
    "        optimizer.zero_grad()\n",
    "        \n",
    "        output = m(x)\n",
    "        #print(labels.type)\n",
    "        \n",
    "        loss = criterion(output[:,0], labels)\n",
    "        loss.backward()\n",
    "        optimizer.step()\n",
    "        \n",
    "        running_loss += loss.item()\n",
    "#         running_correct += percentCorrect(output[:,0], labels)\n",
    "    if (e % 5)==0:\n",
    "        \n",
    "        #print(f\"Training loss: {running_loss/len(trainloader)}\")\n",
    "#         np.append(train_losses,running_loss/len(trainloader)\n",
    "        train_losses.append(running_loss/len(trainloader))\n",
    "            \n",
    "        \n",
    "running_correct += percentCorrect(m(trainset[:,:-1]), trainset[:,-1])\n",
    "\n",
    "print(f\"Training % Correct : {100*running_correct}\")\n"
   ]
  },
  {
   "cell_type": "code",
   "execution_count": 299,
   "metadata": {},
   "outputs": [],
   "source": [
    "import matplotlib.pyplot as plt\n",
    "import numpy as np"
   ]
  },
  {
   "cell_type": "code",
   "execution_count": 316,
   "metadata": {},
   "outputs": [
    {
     "data": {
      "image/png": "[encoded data removed]",
      "text/plain": [
       "<Figure size 432x288 with 1 Axes>"
      ]
     },
     "metadata": {
      "needs_background": "light"
     },
     "output_type": "display_data"
    }
   ],
   "source": [
    "v = epochs/5\n",
    "x = np.arange(v)\n",
    "x = x*5\n",
    "plt.plot(x, train_losses)\n",
    "plt.plot(x, np.full(int(v), 0.89))\n",
    "plt.show()"
   ]
  },
  {
   "cell_type": "markdown",
   "metadata": {},
   "source": [
    "### Classifying test data"
   ]
  },
  {
   "cell_type": "code",
   "execution_count": 320,
   "metadata": {},
   "outputs": [
    {
     "name": "stdout",
     "output_type": "stream",
     "text": [
      "Test % Correct : 94.28835110746515\n"
     ]
    }
   ],
   "source": [
    "correct_class_test = percentCorrect(m(testset_without_labels), testset_labels)\n",
    "\n",
    "print(f\"Test % Correct : {100*correct_class_test}\")"
   ]
  },
  {
   "cell_type": "markdown",
   "metadata": {},
   "source": [
    "### Observation\n",
    "Percent Training Data Classified correctly at the end of the training: 93.147\n",
    "\n",
    "Percent Test Data Classified correctly: 94.288\n",
    "\n",
    "Learning Rate: 0.004\n",
    "\n",
    "Batch Size: 100"
   ]
  },
  {
   "cell_type": "markdown",
   "metadata": {},
   "source": [
    "## (D) Batch Gradient Descent"
   ]
  },
  {
   "cell_type": "code",
   "execution_count": 321,
   "metadata": {},
   "outputs": [
    {
     "name": "stdout",
     "output_type": "stream",
     "text": [
      "Training % Correct : 78.76703917475132\n"
     ]
    }
   ],
   "source": [
    "c3_batchSize = df_train.shape[0];\n",
    "trainloader = torch.utils.data.DataLoader(trainset, batch_size=c3_batchSize, shuffle=True)\n",
    "\n",
    "tol = 0.0001\n",
    "\n",
    "m = Network(5)\n",
    "# Optimizers require the parameters to optimize and a learning rate\n",
    "optimizer = torch.optim.SGD(m.parameters(), lr=0.004)\n",
    "\n",
    "correct_class_train = 0\n",
    "\n",
    "train_losses = []\n",
    "\n",
    "epochs = 150\n",
    "\n",
    "labels = []\n",
    "output = []\n",
    "for e in range(epochs):\n",
    "    running_loss = 0\n",
    "    old_r_loss = 100000\n",
    "    running_correct = 0\n",
    "    for images in trainloader:\n",
    "        #print(images.shape)\n",
    "        x = images[:,:-1]\n",
    "        labels = (images[:,-1])\n",
    "        \n",
    "        # Training pass\n",
    "        optimizer.zero_grad()\n",
    "        \n",
    "        output = m(x)\n",
    "        #print(labels.type)\n",
    "        \n",
    "        loss = criterion(output[:,0], labels)\n",
    "        loss.backward()\n",
    "        optimizer.step()\n",
    "        \n",
    "        running_loss += loss.item()\n",
    "#         running_correct += percentCorrect(output[:,0], labels)\n",
    "    if (e % 5)==0:\n",
    "        \n",
    "        #print(f\"Training loss: {running_loss/len(trainloader)}\")\n",
    "#         np.append(train_losses,running_loss/len(trainloader)\n",
    "        train_losses.append(running_loss/len(trainloader))\n",
    "            \n",
    "        \n",
    "running_correct += percentCorrect(m(trainset[:,:-1]), trainset[:,-1])\n",
    "\n",
    "print(f\"Training % Correct : {100*running_correct}\")\n"
   ]
  },
  {
   "cell_type": "code",
   "execution_count": 322,
   "metadata": {},
   "outputs": [
    {
     "data": {
      "image/png": "[encoded data removed]",
      "text/plain": [
       "<Figure size 432x288 with 1 Axes>"
      ]
     },
     "metadata": {
      "needs_background": "light"
     },
     "output_type": "display_data"
    }
   ],
   "source": [
    "v = epochs/5\n",
    "x = np.arange(v)\n",
    "x = x*5\n",
    "plt.plot(x, train_losses)\n",
    "plt.plot(x, np.full(int(v), 0.89))\n",
    "plt.show()"
   ]
  },
  {
   "cell_type": "markdown",
   "metadata": {},
   "source": [
    "The performance decreases."
   ]
  },
  {
   "cell_type": "markdown",
   "metadata": {},
   "source": [
    "## (E)\n",
    "\n"
   ]
  },
  {
   "cell_type": "code",
   "execution_count": 337,
   "metadata": {},
   "outputs": [],
   "source": [
    "train_perf = []\n",
    "test_perf = []"
   ]
  },
  {
   "cell_type": "code",
   "execution_count": 338,
   "metadata": {},
   "outputs": [],
   "source": [
    "def doer(H):\n",
    "    c3_batchSize = 100;\n",
    "    trainloader = torch.utils.data.DataLoader(trainset, batch_size=c3_batchSize, shuffle=True)\n",
    "\n",
    "    tol = 0.0001\n",
    "\n",
    "    m = Network(H)\n",
    "    # Optimizers require the parameters to optimize and a learning rate\n",
    "    optimizer = torch.optim.Adam(m.parameters(), lr=0.004)\n",
    "\n",
    "    correct_class_train = 0\n",
    "\n",
    "    train_losses = []\n",
    "\n",
    "    epochs = 250\n",
    "\n",
    "    labels = []\n",
    "    output = []\n",
    "    for e in range(epochs):\n",
    "        running_loss = 0\n",
    "        old_r_loss = 100000.0\n",
    "        running_correct = 0\n",
    "        for images in trainloader:\n",
    "            #print(images.shape)\n",
    "            x = images[:,:-1]\n",
    "            labels = (images[:,-1])\n",
    "\n",
    "            # Training pass\n",
    "            optimizer.zero_grad()\n",
    "\n",
    "            output = m(x)\n",
    "            #print(labels.type)\n",
    "\n",
    "            loss = criterion(output[:,0], labels)\n",
    "            loss.backward()\n",
    "            optimizer.step()\n",
    "\n",
    "            running_loss += loss.item()\n",
    "    #         running_correct += percentCorrect(output[:,0], labels)\n",
    "        if (e % 5)==0:\n",
    "            if(running_loss/len(trainloader)>old_r_loss):\n",
    "                break\n",
    "            #print(f\"Training loss: {running_loss/len(trainloader)}\")\n",
    "    #         np.append(train_losses,running_loss/len(trainloader)\n",
    "            #train_losses.append(running_loss/len(trainloader))\n",
    "\n",
    "\n",
    "    running_correct += percentCorrect(m(trainset[:,:-1]), trainset[:,-1])\n",
    "\n",
    "    print(f\"Training % Correct : {100*running_correct}\")\n",
    "    \n",
    "    correct_class_test = percentCorrect(m(testset_without_labels), testset_labels)\n",
    "\n",
    "    print(f\"Test % Correct : {100*correct_class_test}\")\n",
    "    \n",
    "    return 100*running_correct, 100*correct_class_test"
   ]
  },
  {
   "cell_type": "markdown",
   "metadata": {},
   "source": [
    "### H = 1"
   ]
  },
  {
   "cell_type": "code",
   "execution_count": 339,
   "metadata": {},
   "outputs": [
    {
     "name": "stdout",
     "output_type": "stream",
     "text": [
      "Training % Correct : 78.76703917475132\n",
      "Test % Correct : 78.98892534864643\n"
     ]
    }
   ],
   "source": [
    "a, b = doer(1)\n",
    "train_perf.append(a)\n",
    "test_perf.append(b)"
   ]
  },
  {
   "cell_type": "markdown",
   "metadata": {},
   "source": [
    "### H = 2"
   ]
  },
  {
   "cell_type": "code",
   "execution_count": 340,
   "metadata": {},
   "outputs": [
    {
     "name": "stdout",
     "output_type": "stream",
     "text": [
      "Training % Correct : 78.76703917475132\n",
      "Test % Correct : 78.98892534864643\n"
     ]
    }
   ],
   "source": [
    "a, b = doer(2)\n",
    "train_perf.append(a)\n",
    "test_perf.append(b)"
   ]
  },
  {
   "cell_type": "markdown",
   "metadata": {},
   "source": [
    "### H = 5"
   ]
  },
  {
   "cell_type": "code",
   "execution_count": 341,
   "metadata": {},
   "outputs": [
    {
     "name": "stdout",
     "output_type": "stream",
     "text": [
      "Training % Correct : 98.75967088296697\n",
      "Test % Correct : 98.62592288761279\n"
     ]
    }
   ],
   "source": [
    "a, b = doer(5)\n",
    "train_perf.append(a)\n",
    "test_perf.append(b)"
   ]
  },
  {
   "cell_type": "markdown",
   "metadata": {},
   "source": [
    "### H = 10\n"
   ]
  },
  {
   "cell_type": "code",
   "execution_count": 342,
   "metadata": {},
   "outputs": [
    {
     "name": "stdout",
     "output_type": "stream",
     "text": [
      "Training % Correct : 98.87019525973228\n",
      "Test % Correct : 99.2616899097621\n"
     ]
    }
   ],
   "source": [
    "a, b = doer(10)\n",
    "train_perf.append(a)\n",
    "test_perf.append(b)"
   ]
  },
  {
   "cell_type": "markdown",
   "metadata": {},
   "source": [
    "### H = 20"
   ]
  },
  {
   "cell_type": "code",
   "execution_count": 343,
   "metadata": {},
   "outputs": [
    {
     "name": "stdout",
     "output_type": "stream",
     "text": [
      "Training % Correct : 98.87019525973228\n",
      "Test % Correct : 99.08736669401148\n"
     ]
    }
   ],
   "source": [
    "a, b = doer(20)\n",
    "train_perf.append(a)\n",
    "test_perf.append(b)"
   ]
  },
  {
   "cell_type": "code",
   "execution_count": 350,
   "metadata": {},
   "outputs": [
    {
     "data": {
      "image/png": "[encoded data removed]",
      "text/plain": [
       "<Figure size 432x288 with 1 Axes>"
      ]
     },
     "metadata": {
      "needs_background": "light"
     },
     "output_type": "display_data"
    }
   ],
   "source": [
    "# train perf is in orange\n",
    "# test perf is in black\n",
    "x = [1,2,5,10,20]\n",
    "plt.plot(x, train_perf, 'orange')\n",
    "plt.plot(x, test_perf, 'black')\n",
    "\n",
    "plt.show()"
   ]
  },
  {
   "cell_type": "markdown",
   "metadata": {},
   "source": [
    "The performance increases rapidly with increase in the number of hidden layers!"
   ]
  },
  {
   "cell_type": "markdown",
   "metadata": {},
   "source": [
    "## (F) Using MSE"
   ]
  },
  {
   "cell_type": "code",
   "execution_count": 351,
   "metadata": {},
   "outputs": [],
   "source": [
    "def doer2(H):\n",
    "    criterionF = nn.MSELoss()\n",
    "    \n",
    "    c3_batchSize = 100;\n",
    "    trainloader = torch.utils.data.DataLoader(trainset, batch_size=c3_batchSize, shuffle=True)\n",
    "\n",
    "    tol = 0.0001\n",
    "\n",
    "    m = Network(H)\n",
    "    # Optimizers require the parameters to optimize and a learning rate\n",
    "    optimizer = torch.optim.Adam(m.parameters(), lr=0.004)\n",
    "\n",
    "    correct_class_train = 0\n",
    "\n",
    "    train_losses = []\n",
    "\n",
    "    epochs = 250\n",
    "\n",
    "    labels = []\n",
    "    output = []\n",
    "    for e in range(epochs):\n",
    "        running_loss = 0\n",
    "        old_r_loss = 100000.0\n",
    "        running_correct = 0\n",
    "        for images in trainloader:\n",
    "            #print(images.shape)\n",
    "            x = images[:,:-1]\n",
    "            labels = (images[:,-1])\n",
    "\n",
    "            # Training pass\n",
    "            optimizer.zero_grad()\n",
    "\n",
    "            output = m(x)\n",
    "            #print(labels.type)\n",
    "\n",
    "            loss = criterionF(output[:,0], labels)\n",
    "            loss.backward()\n",
    "            optimizer.step()\n",
    "\n",
    "            running_loss += loss.item()\n",
    "    #         running_correct += percentCorrect(output[:,0], labels)\n",
    "        if (e % 5)==0:\n",
    "            if(running_loss/len(trainloader)>old_r_loss):\n",
    "                break\n",
    "            #print(f\"Training loss: {running_loss/len(trainloader)}\")\n",
    "    #         np.append(train_losses,running_loss/len(trainloader)\n",
    "            #train_losses.append(running_loss/len(trainloader))\n",
    "\n",
    "\n",
    "    running_correct += percentCorrect(m(trainset[:,:-1]), trainset[:,-1])\n",
    "\n",
    "    print(f\"Training % Correct : {100*running_correct}\")\n",
    "    \n",
    "    correct_class_test = percentCorrect(m(testset_without_labels), testset_labels)\n",
    "\n",
    "    print(f\"Test % Correct : {100*correct_class_test}\")\n",
    "    \n",
    "    return 100*running_correct, 100*correct_class_test"
   ]
  },
  {
   "cell_type": "code",
   "execution_count": 354,
   "metadata": {},
   "outputs": [
    {
     "name": "stdout",
     "output_type": "stream",
     "text": [
      "Training % Correct : 78.76703917475132\n",
      "Test % Correct : 78.98892534864643\n",
      "Training % Correct : 98.808792828196\n",
      "Test % Correct : 99.33347005742412\n",
      "Training % Correct : 98.83335380081051\n",
      "Test % Correct : 99.11812961443806\n",
      "Training % Correct : 98.83335380081051\n",
      "Test % Correct : 99.08736669401148\n",
      "Training % Correct : 98.84563428711776\n",
      "Test % Correct : 98.17473338802297\n"
     ]
    }
   ],
   "source": [
    "train_perf = []\n",
    "test_perf = []\n",
    "a, b = doer(1)\n",
    "train_perf.append(a)\n",
    "test_perf.append(b)\n",
    "\n",
    "a, b = doer(2)\n",
    "train_perf.append(a)\n",
    "test_perf.append(b)\n",
    "\n",
    "a, b = doer(5)\n",
    "train_perf.append(a)\n",
    "test_perf.append(b)\n",
    "\n",
    "a, b = doer(10)\n",
    "train_perf.append(a)\n",
    "test_perf.append(b)\n",
    "\n",
    "a, b = doer(20)\n",
    "train_perf.append(a)\n",
    "test_perf.append(b)"
   ]
  },
  {
   "cell_type": "code",
   "execution_count": 355,
   "metadata": {},
   "outputs": [
    {
     "data": {
      "image/png": "[encoded data removed]",
      "text/plain": [
       "<Figure size 432x288 with 1 Axes>"
      ]
     },
     "metadata": {
      "needs_background": "light"
     },
     "output_type": "display_data"
    }
   ],
   "source": [
    "# train perf is in orange\n",
    "# test perf is in black\n",
    "x = [1,2,5,10,20]\n",
    "plt.plot(x, train_perf, 'orange')\n",
    "plt.plot(x, test_perf, 'black')\n",
    "\n",
    "plt.show()"
   ]
  },
  {
   "cell_type": "markdown",
   "metadata": {},
   "source": [
    "The accuracy percentage decreases slightly."
   ]
  },
  {
   "cell_type": "markdown",
   "metadata": {},
   "source": [
    "### (G)"
   ]
  },
  {
   "cell_type": "code",
   "execution_count": 385,
   "metadata": {},
   "outputs": [],
   "source": [
    "# Sigmoid fxn on output: <0.5: Class '0', >0.5: class '1'\n",
    "class Network2(nn.Module):\n",
    "    def __init__(self, H1, H2):\n",
    "        super().__init__()\n",
    "        \n",
    "        self.hidden1 = nn.Linear(5, H1)\n",
    "        self.hidden2 = nn.Linear(H1, H2)\n",
    "        \n",
    "        self.out = nn.Linear(H2, 1)\n",
    "           \n",
    "        # activation function for hidden layer.\n",
    "        self.sigmoid = nn.Sigmoid()\n",
    "        self.rel = nn.ReLU()\n",
    "        \n",
    "    def forward(self, x):\n",
    "        # Pass the input tensor through each of our operations\n",
    "        x = self.hidden1(x)\n",
    "        x = self.sigmoid(x)\n",
    "        x = self.hidden2(x)\n",
    "        x = self.sigmoid(x)\n",
    "        x = self.out(x)\n",
    "        x = self.sigmoid(x)\n",
    "        \n",
    "        return x\n",
    "    "
   ]
  },
  {
   "cell_type": "code",
   "execution_count": 393,
   "metadata": {},
   "outputs": [
    {
     "name": "stdout",
     "output_type": "stream",
     "text": [
      "Training % Correct : 78.76703917475132\n",
      "Test % Correct : 78.98892534864643\n"
     ]
    }
   ],
   "source": [
    "c3_batchSize = 100;\n",
    "trainloader = torch.utils.data.DataLoader(trainset, batch_size=c3_batchSize, shuffle=True)\n",
    "\n",
    "tol = 0.0001\n",
    "\n",
    "m3 = Network2(20, 8)\n",
    "# Optimizers require the parameters to optimize and a learning rate\n",
    "optimizer = torch.optim.Adam(m.parameters(), lr=0.004)\n",
    "\n",
    "correct_class_train = 0\n",
    "\n",
    "train_losses = []\n",
    "\n",
    "epochs = 150\n",
    "\n",
    "labels = []\n",
    "output = []\n",
    "for e in range(epochs):\n",
    "    running_loss = 0\n",
    "    old_r_loss = 100000\n",
    "    running_correct = 0\n",
    "    for images in trainloader:\n",
    "        #print(images.shape)\n",
    "        x = images[:,:-1]\n",
    "        labels = (images[:,-1])\n",
    "        \n",
    "        # Training pass\n",
    "        optimizer.zero_grad()\n",
    "        \n",
    "        output = m3(x)\n",
    "        #print(labels.type)\n",
    "        \n",
    "        loss = criterion(output[:,0], labels)\n",
    "        loss.backward()\n",
    "        optimizer.step()\n",
    "        \n",
    "        running_loss += loss.item()\n",
    "#         running_correct += percentCorrect(output[:,0], labels)\n",
    "    if (e % 5)==0:\n",
    "        \n",
    "        #print(f\"Training loss: {running_loss/len(trainloader)}\")\n",
    "#         np.append(train_losses,running_loss/len(trainloader)\n",
    "        train_losses.append(running_loss/len(trainloader))\n",
    "            \n",
    "        \n",
    "running_correct = percentCorrect(m3(trainset[:,:-1]), trainset[:,-1])\n",
    "\n",
    "print(f\"Training % Correct : {100*running_correct}\")\n",
    "\n",
    "correct_class_test = percentCorrect(m3(testset_without_labels), testset_labels)\n",
    "\n",
    "print(f\"Test % Correct : {100*correct_class_test}\")"
   ]
  },
  {
   "cell_type": "markdown",
   "metadata": {},
   "source": [
    "Tried :\n",
    "* 5-6-3-1\n",
    "* 5-5-2-1\n",
    "* 5-4-2-1\n",
    "* 5-20-8-1\n",
    "\n",
    "Single hidden layer performs better."
   ]
  },
  {
   "cell_type": "code",
   "execution_count": null,
   "metadata": {},
   "outputs": [],
   "source": []
  }
 ],
 "metadata": {
  "kernelspec": {
   "display_name": "Python 3",
   "language": "python",
   "name": "python3"
  },
  "language_info": {
   "codemirror_mode": {
    "name": "ipython",
    "version": 3
   },
   "file_extension": ".py",
   "mimetype": "text/x-python",
   "name": "python",
   "nbconvert_exporter": "python",
   "pygments_lexer": "ipython3",
   "version": "3.7.3"
  },
  "latex_envs": {
   "LaTeX_envs_menu_present": true,
   "autoclose": false,
   "autocomplete": true,
   "bibliofile": "biblio.bib",
   "cite_by": "apalike",
   "current_citInitial": 1,
   "eqLabelWithNumbers": true,
   "eqNumInitial": 1,
   "hotkeys": {
    "equation": "Ctrl-E",
    "itemize": "Ctrl-I"
   },
   "labels_anchors": false,
   "latex_user_defs": false,
   "report_style_numbering": false,
   "user_envs_cfg": false
  },
  "toc": {
   "base_numbering": 1,
   "nav_menu": {},
   "number_sections": true,
   "sideBar": true,
   "skip_h1_title": false,
   "title_cell": "Table of Contents",
   "title_sidebar": "Contents",
   "toc_cell": false,
   "toc_position": {},
   "toc_section_display": true,
   "toc_window_display": true
  }
 },
 "nbformat": 4,
 "nbformat_minor": 2
}
