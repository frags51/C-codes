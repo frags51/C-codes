{
 "cells": [
  {
   "cell_type": "markdown",
   "metadata": {},
   "source": [
    "# AML Assignment 3\n",
    "## Supreet Singh CS16BTECH11038"
   ]
  },
  {
   "cell_type": "markdown",
   "metadata": {},
   "source": [
    "# Q3"
   ]
  },
  {
   "cell_type": "markdown",
   "metadata": {},
   "source": [
    "## (A)\n"
   ]
  },
  {
   "cell_type": "code",
   "execution_count": 4,
   "metadata": {},
   "outputs": [],
   "source": [
    "# imports\n",
    "import numpy as np\n",
    "import csv"
   ]
  },
  {
   "cell_type": "code",
   "execution_count": 50,
   "metadata": {},
   "outputs": [],
   "source": [
    "#load data\n",
    "#f= open(\"linregdata\", \"r\")\n",
    "#rawSet_3 = np.loadtxt(f)\n",
    "with open(\"linregdata\") as f:\n",
    "    next(f, None)\n",
    "    data = [tuple(line) for line in csv.reader(f, delimiter=\",\")]\n",
    "    #print (\"Number of records: %d\" % (len(data)))"
   ]
  },
  {
   "cell_type": "code",
   "execution_count": 51,
   "metadata": {},
   "outputs": [
    {
     "name": "stdout",
     "output_type": "stream",
     "text": [
      "('M', '0.35', '0.265', '0.09', '0.2255', '0.0995', '0.0485', '0.07', '7')\n"
     ]
    }
   ],
   "source": [
    "print(data[0])"
   ]
  },
  {
   "cell_type": "code",
   "execution_count": 52,
   "metadata": {},
   "outputs": [],
   "source": [
    "# Converting M,F,I to numbers!\n",
    "rawSet_3 = []\n",
    "i_3 = 0\n",
    "for line in data:\n",
    "    rawSet_3.append([])\n",
    "    if line[0]=='F':\n",
    "        rawSet_3[i_3].append(1)\n",
    "        rawSet_3[i_3].append(0)\n",
    "        rawSet_3[i_3].append(0)\n",
    "        #print(rawSet_3[i_3],i_3)\n",
    "    elif line[0]=='I':\n",
    "        rawSet_3[i_3].append(0)\n",
    "        rawSet_3[i_3].append(1)\n",
    "        rawSet_3[i_3].append(0)\n",
    "    else:\n",
    "        rawSet_3[i_3].append(0)\n",
    "        rawSet_3[i_3].append(0)\n",
    "        rawSet_3[i_3].append(1)\n",
    "    for x in line[1:]:\n",
    "        rawSet_3[i_3].append(float(x))\n",
    "    i_3+=1\n",
    "    #print(rawSet_3[i_3-1])"
   ]
  },
  {
   "cell_type": "code",
   "execution_count": 53,
   "metadata": {},
   "outputs": [
    {
     "name": "stdout",
     "output_type": "stream",
     "text": [
      "[0, 0, 1, 0.35, 0.265, 0.09, 0.2255, 0.0995, 0.0485, 0.07, 7.0]\n"
     ]
    }
   ],
   "source": [
    "print(rawSet_3[0])"
   ]
  },
  {
   "cell_type": "markdown",
   "metadata": {},
   "source": [
    "## (B)"
   ]
  },
  {
   "cell_type": "code",
   "execution_count": 101,
   "metadata": {},
   "outputs": [
    {
     "name": "stdout",
     "output_type": "stream",
     "text": [
      "means:  [0.31297893 0.32136015 0.36566092 0.52400862 0.40789152 0.13952706\n",
      " 0.82881753 0.35939978 0.18061267 0.23885213 9.93247126]\n",
      "std devs:  [0.46370585 0.46699872 0.481615   0.12008817 0.09923765 0.04182138\n",
      " 0.49036483 0.22195313 0.10960733 0.13919588 3.22321548]\n"
     ]
    }
   ],
   "source": [
    "# get means, stds\n",
    "rawSet_3np = np.array(rawSet_3)\n",
    "means = rawSet_3np.mean(axis=0)\n",
    "print(\"means: \", means)\n",
    "stds = rawSet_3np.std(axis=0)\n",
    "print(\"std devs: \", stds)\n",
    "# standardise:\n",
    "\n",
    "for line in rawSet_3np:\n",
    "    for i, x in enumerate(line[:-1]):\n",
    "        line[i] = (line[i]-means[i])/stds[i]"
   ]
  },
  {
   "cell_type": "code",
   "execution_count": 99,
   "metadata": {},
   "outputs": [
    {
     "name": "stdout",
     "output_type": "stream",
     "text": [
      "[[-0.67495143 -0.68813926  1.31710822 ... -1.20532696 -1.21305408\n",
      "   7.        ]\n",
      " [ 1.4815881  -0.68813926 -0.75923905 ... -0.35684354 -0.20727719\n",
      "   9.        ]\n",
      " [-0.67495143 -0.68813926  1.31710822 ... -0.60773918 -0.60240383\n",
      "  10.        ]\n",
      " ...\n",
      " [-0.67495143 -0.68813926  1.31710822 ...  0.97518418  0.49676663\n",
      "   9.        ]\n",
      " [ 1.4815881  -0.68813926 -0.75923905 ...  0.73341202  0.41055718\n",
      "  10.        ]\n",
      " [-0.67495143 -0.68813926  1.31710822 ...  1.78717368  1.84019719\n",
      "  12.        ]]\n"
     ]
    }
   ],
   "source": [
    "print(rawSet_3np)"
   ]
  },
  {
   "cell_type": "code",
   "execution_count": 65,
   "metadata": {},
   "outputs": [
    {
     "name": "stdout",
     "output_type": "stream",
     "text": [
      "[1.         1.         1.         1.         1.         1.\n",
      " 1.         1.         1.         1.         3.22321548]\n"
     ]
    }
   ],
   "source": [
    "print(rawSet_3np.std(axis=0))\n"
   ]
  },
  {
   "cell_type": "markdown",
   "metadata": {},
   "source": [
    "## (C)"
   ]
  },
  {
   "cell_type": "code",
   "execution_count": 112,
   "metadata": {},
   "outputs": [],
   "source": [
    "def myLinRidgeReg(Xd, Yd, λ): #returns regression weights, Xd: matrix, Yd:vector\n",
    "    # Xd, Yd are python lists!\n",
    "    X = np.array(Xd)\n",
    "    Y = np.array(Yd)\n",
    "    a1 = np.matmul(X.T, X)\n",
    "    #print(a1.shape)\n",
    "    a2 = np.identity(a1.shape[0])\n",
    "    a2 *= λ\n",
    "    a3 = np.linalg.inv(np.add(a2, a1))\n",
    "    #print(type(a3))\n",
    "    #print(a3.shape)\n",
    "    #print(X.T.shape)\n",
    "    a4 = np.matmul(a3, X.T)\n",
    "    a5 = np.matmul(a4, Y)\n",
    "    return a5\n",
    "    \n",
    "def myLinRidgeRegVal(xd, Wd): # \n",
    "    X = np.array(xd)\n",
    "    W = np.array(Wd)\n",
    "    return np.dot(X, W)\n",
    "\n",
    "def meanSquaredError(T, Tdash):\n",
    "    sum=0.0\n",
    "    if len(T) != len(Tdash):\n",
    "        print(\"Error in MSE function, len not same!\")\n",
    "        return 0.0\n",
    "    for i, x in enumerate(T):\n",
    "        sum += ((T[i]-Tdash[i])**2)\n",
    "    \n",
    "    sum /= len(T)\n",
    "    return sum"
   ]
  },
  {
   "cell_type": "markdown",
   "metadata": {},
   "source": [
    "## (D and E)"
   ]
  },
  {
   "cell_type": "code",
   "execution_count": 108,
   "metadata": {},
   "outputs": [],
   "source": [
    "#shuffle ( a copy of the original array)!\n",
    "import random\n",
    "\n",
    "workSet_3 = rawSet_3np.copy()\n",
    "np.random.shuffle(workSet_3)\n"
   ]
  },
  {
   "cell_type": "code",
   "execution_count": 109,
   "metadata": {},
   "outputs": [],
   "source": [
    "#partition fraction\n",
    "pf_3 = 0.2\n",
    "\n",
    "# Split into test and train data\n",
    "n_3 = len(workSet_3)\n",
    "testMat_3 = workSet_3[:int(pf_3*n_3)] \n",
    "trainMat_3 = workSet_3[int(pf_3*n_3):]\n",
    "\n",
    "trainX_3 = []\n",
    "trainY_3 = []\n",
    "for line in trainMat_3:\n",
    "    trainX_3.append(line[:-1])\n",
    "    trainY_3.append(line[-1])\n",
    "\n",
    "testX_3 = []\n",
    "testY_3 = []\n",
    "for line in testMat_3:\n",
    "    testX_3.append(line[:-1])\n",
    "    testY_3.append(line[-1])\n",
    "    "
   ]
  },
  {
   "cell_type": "code",
   "execution_count": 121,
   "metadata": {},
   "outputs": [],
   "source": [
    "# different values of lambda:\n",
    "λ_list = [0, 0.1,0.2,0.5,1,2,10,80]"
   ]
  },
  {
   "cell_type": "code",
   "execution_count": 122,
   "metadata": {},
   "outputs": [
    {
     "name": "stdout",
     "output_type": "stream",
     "text": [
      "TEST DATA PERFORMANCE: \n",
      "\n",
      "for λ:  0 \n",
      "wts:  [ 0.29171458 -0.35537523  0.13546602 -0.20217561  1.13505988  0.50611523\n",
      "  4.11995949 -4.33719123 -0.83489821  1.07360172]\n",
      "MSE:  104.50887366073401\n",
      "\n",
      "for λ:  0.1 \n",
      "wts:  [ 0.19047701 -0.3419682   0.14819598 -0.20125977  1.1338459   0.50621188\n",
      "  4.10136012 -4.32837068 -0.83064113  1.07984126]\n",
      "MSE:  104.4089896845801\n",
      "\n",
      "for λ:  0.2 \n",
      "wts:  [ 0.19054764 -0.34203892  0.14819654 -0.20034584  1.13263581  0.50630825\n",
      "  4.08292536 -4.31962174 -0.82642358  1.08602093]\n",
      "MSE:  104.40948829606612\n",
      "\n",
      "for λ:  0.5 \n",
      "wts:  [ 0.19075721 -0.34224844  0.14819793 -0.19761571  1.12902886  0.5065957\n",
      "  4.02858722 -4.29379538 -0.81400293  1.1042086 ]\n",
      "MSE:  104.41099864860944\n",
      "\n",
      "for λ:  1 \n",
      "wts:  [ 0.19109899 -0.34258922  0.1481993  -0.19310528  1.12309449  0.50706939\n",
      "  3.94112048 -4.25209937 -0.79404515  1.13339522]\n",
      "MSE:  104.4135582677669\n",
      "\n",
      "for λ:  2 \n",
      "wts:  [ 0.19175629 -0.34324126  0.1481987  -0.18423948  1.11151134  0.50799752\n",
      "  3.77694486 -4.17339199 -0.75670962  1.18785667]\n",
      "MSE:  104.41879708288765\n",
      "\n",
      "for λ:  10 \n",
      "wts:  [ 0.19608504 -0.347408    0.1480712  -0.12119065  1.03122905  0.51468402\n",
      "  2.82870965 -3.70316674 -0.54523912  1.49085755]\n",
      "MSE:  104.46114183156425\n",
      "\n",
      "for λ:  80 \n",
      "wts:  [ 0.21372254 -0.36126266  0.14452374  0.11016683  0.73448259  0.54898067\n",
      "  0.86731992 -2.42637527 -0.16486314  1.8748542 ]\n",
      "MSE:  104.69077225527482\n"
     ]
    }
   ],
   "source": [
    "print(\"TEST DATA PERFORMANCE: \")\n",
    "\n",
    "for λ in λ_list:\n",
    "    cur_wts = myLinRidgeReg(trainX_3, trainY_3, λ)\n",
    "    preds = myLinRidgeRegVal(testX_3, cur_wts)\n",
    "    print(\"\\nfor λ: \", λ, \"\\nwts: \", cur_wts)\n",
    "    print(\"MSE: \", meanSquaredError(preds, testY_3))"
   ]
  },
  {
   "cell_type": "code",
   "execution_count": 123,
   "metadata": {},
   "outputs": [
    {
     "name": "stdout",
     "output_type": "stream",
     "text": [
      "Training DATA PERFORMANCE: \n",
      "\n",
      "for λ:  0 \n",
      "wts:  [ 0.29171458 -0.35537523  0.13546602 -0.20217561  1.13505988  0.50611523\n",
      "  4.11995949 -4.33719123 -0.83489821  1.07360172]\n",
      "MSE:  103.256874095319\n",
      "\n",
      "for λ:  0.1 \n",
      "wts:  [ 0.19047701 -0.3419682   0.14819598 -0.20125977  1.1338459   0.50621188\n",
      "  4.10136012 -4.32837068 -0.83064113  1.07984126]\n",
      "MSE:  103.24376268103296\n",
      "\n",
      "for λ:  0.2 \n",
      "wts:  [ 0.19054764 -0.34203892  0.14819654 -0.20034584  1.13263581  0.50630825\n",
      "  4.08292536 -4.31962174 -0.82642358  1.08602093]\n",
      "MSE:  103.24377268936419\n",
      "\n",
      "for λ:  0.5 \n",
      "wts:  [ 0.19075721 -0.34224844  0.14819793 -0.19761571  1.12902886  0.5065957\n",
      "  4.02858722 -4.29379538 -0.81400293  1.1042086 ]\n",
      "MSE:  103.2438408580813\n",
      "\n",
      "for λ:  1 \n",
      "wts:  [ 0.19109899 -0.34258922  0.1481993  -0.19310528  1.12309449  0.50706939\n",
      "  3.94112048 -4.25209937 -0.79404515  1.13339522]\n",
      "MSE:  103.24407228208261\n",
      "\n",
      "for λ:  2 \n",
      "wts:  [ 0.19175629 -0.34324126  0.1481987  -0.18423948  1.11151134  0.50799752\n",
      "  3.77694486 -4.17339199 -0.75670962  1.18785667]\n",
      "MSE:  103.24491488615612\n",
      "\n",
      "for λ:  10 \n",
      "wts:  [ 0.19608504 -0.347408    0.1480712  -0.12119065  1.03122905  0.51468402\n",
      "  2.82870965 -3.70316674 -0.54523912  1.49085755]\n",
      "MSE:  103.26065784548437\n",
      "\n",
      "for λ:  80 \n",
      "wts:  [ 0.21372254 -0.36126266  0.14452374  0.11016683  0.73448259  0.54898067\n",
      "  0.86731992 -2.42637527 -0.16486314  1.8748542 ]\n",
      "MSE:  103.39438473533099\n"
     ]
    }
   ],
   "source": [
    "print(\"Training DATA PERFORMANCE: \")\n",
    "\n",
    "for λ in λ_list:\n",
    "    cur_wts = myLinRidgeReg(trainX_3, trainY_3, λ)\n",
    "    preds = myLinRidgeRegVal(trainX_3, cur_wts)\n",
    "    print(\"\\nfor λ: \", λ, \"\\nwts: \", cur_wts)\n",
    "    print(\"MSE: \", meanSquaredError(preds, trainY_3))"
   ]
  },
  {
   "cell_type": "code",
   "execution_count": null,
   "metadata": {},
   "outputs": [],
   "source": []
  }
 ],
 "metadata": {
  "kernelspec": {
   "display_name": "Python 3",
   "language": "python",
   "name": "python3"
  },
  "language_info": {
   "codemirror_mode": {
    "name": "ipython",
    "version": 3
   },
   "file_extension": ".py",
   "mimetype": "text/x-python",
   "name": "python",
   "nbconvert_exporter": "python",
   "pygments_lexer": "ipython3",
   "version": "3.6.7"
  },
  "toc": {
   "base_numbering": 1,
   "nav_menu": {},
   "number_sections": true,
   "sideBar": true,
   "skip_h1_title": false,
   "title_cell": "Table of Contents",
   "title_sidebar": "Contents",
   "toc_cell": false,
   "toc_position": {},
   "toc_section_display": true,
   "toc_window_display": true
  }
 },
 "nbformat": 4,
 "nbformat_minor": 2
}
