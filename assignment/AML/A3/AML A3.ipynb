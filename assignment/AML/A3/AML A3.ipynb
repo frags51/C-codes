{
 "cells": [
  {
   "cell_type": "markdown",
   "metadata": {},
   "source": [
    "# AML Assignment 3\n",
    "## Supreet Singh CS16BTECH11038"
   ]
  },
  {
   "cell_type": "markdown",
   "metadata": {},
   "source": [
    "# Q3"
   ]
  },
  {
   "cell_type": "markdown",
   "metadata": {},
   "source": [
    "## (A)\n"
   ]
  },
  {
   "cell_type": "code",
   "execution_count": 4,
   "metadata": {},
   "outputs": [],
   "source": [
    "# imports\n",
    "import numpy as np\n",
    "import csv"
   ]
  },
  {
   "cell_type": "code",
   "execution_count": 7,
   "metadata": {},
   "outputs": [],
   "source": [
    "#load data\n",
    "#f= open(\"linregdata\", \"r\")\n",
    "#rawSet_3 = np.loadtxt(f)\n",
    "with open(\"linregdata\") as f:\n",
    "    next(f, None)\n",
    "    data = [tuple(line) for line in csv.reader(f, delimiter=\",\")]\n",
    "    #print (\"Number of records: %d\" % (len(data)))"
   ]
  },
  {
   "cell_type": "code",
   "execution_count": 18,
   "metadata": {},
   "outputs": [
    {
     "name": "stdout",
     "output_type": "stream",
     "text": [
      "('M', '0.35', '0.265', '0.09', '0.2255', '0.0995', '0.0485', '0.07', '7')\n"
     ]
    }
   ],
   "source": [
    "print(data[0])"
   ]
  },
  {
   "cell_type": "code",
   "execution_count": 31,
   "metadata": {},
   "outputs": [],
   "source": [
    "# Converting M,F,I to numbers!\n",
    "rawSet_3 = []\n",
    "i_3 = 0\n",
    "for line in data:\n",
    "    rawSet_3.append([])\n",
    "    if line[0]=='F':\n",
    "        rawSet_3[i_3].append(1)\n",
    "        rawSet_3[i_3].append(0)\n",
    "        rawSet_3[i_3].append(0)\n",
    "        #print(rawSet_3[i_3],i_3)\n",
    "    elif line[0]=='I':\n",
    "        rawSet_3[i_3].append(0)\n",
    "        rawSet_3[i_3].append(1)\n",
    "        rawSet_3[i_3].append(0)\n",
    "    else:\n",
    "        rawSet_3[i_3].append(0)\n",
    "        rawSet_3[i_3].append(0)\n",
    "        rawSet_3[i_3].append(1)\n",
    "    for x in line[1:]:\n",
    "        rawSet_3[i_3].append(float(x))\n",
    "    i_3+=1\n",
    "    #print(rawSet_3[i_3-1])"
   ]
  },
  {
   "cell_type": "code",
   "execution_count": 32,
   "metadata": {},
   "outputs": [
    {
     "name": "stdout",
     "output_type": "stream",
     "text": [
      "[0, 0, 1, 0.35, 0.265, 0.09, 0.2255, 0.0995, 0.0485, 0.07, 7.0]\n"
     ]
    }
   ],
   "source": [
    "print(rawSet_3[0])"
   ]
  },
  {
   "cell_type": "markdown",
   "metadata": {},
   "source": [
    "## (B)"
   ]
  },
  {
   "cell_type": "code",
   "execution_count": null,
   "metadata": {},
   "outputs": [],
   "source": []
  }
 ],
 "metadata": {
  "kernelspec": {
   "display_name": "Python 3",
   "language": "python",
   "name": "python3"
  },
  "language_info": {
   "codemirror_mode": {
    "name": "ipython",
    "version": 3
   },
   "file_extension": ".py",
   "mimetype": "text/x-python",
   "name": "python",
   "nbconvert_exporter": "python",
   "pygments_lexer": "ipython3",
   "version": "3.6.7"
  },
  "toc": {
   "base_numbering": 1,
   "nav_menu": {},
   "number_sections": true,
   "sideBar": true,
   "skip_h1_title": false,
   "title_cell": "Table of Contents",
   "title_sidebar": "Contents",
   "toc_cell": false,
   "toc_position": {},
   "toc_section_display": true,
   "toc_window_display": true
  }
 },
 "nbformat": 4,
 "nbformat_minor": 2
}
