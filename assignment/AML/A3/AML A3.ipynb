{
 "cells": [
  {
   "cell_type": "markdown",
   "metadata": {},
   "source": [
    "# AML Assignment 3\n",
    "## Supreet Singh CS16BTECH11038"
   ]
  },
  {
   "cell_type": "markdown",
   "metadata": {},
   "source": [
    "# Q3"
   ]
  },
  {
   "cell_type": "markdown",
   "metadata": {},
   "source": [
    "## (A)\n"
   ]
  },
  {
   "cell_type": "code",
   "execution_count": 4,
   "metadata": {},
   "outputs": [],
   "source": [
    "# imports\n",
    "import numpy as np\n",
    "import csv"
   ]
  },
  {
   "cell_type": "code",
   "execution_count": 50,
   "metadata": {},
   "outputs": [],
   "source": [
    "#load data\n",
    "#f= open(\"linregdata\", \"r\")\n",
    "#rawSet_3 = np.loadtxt(f)\n",
    "with open(\"linregdata\") as f:\n",
    "    next(f, None)\n",
    "    data = [tuple(line) for line in csv.reader(f, delimiter=\",\")]\n",
    "    #print (\"Number of records: %d\" % (len(data)))"
   ]
  },
  {
   "cell_type": "code",
   "execution_count": 51,
   "metadata": {},
   "outputs": [
    {
     "name": "stdout",
     "output_type": "stream",
     "text": [
      "('M', '0.35', '0.265', '0.09', '0.2255', '0.0995', '0.0485', '0.07', '7')\n"
     ]
    }
   ],
   "source": [
    "print(data[0])"
   ]
  },
  {
   "cell_type": "code",
   "execution_count": 52,
   "metadata": {},
   "outputs": [],
   "source": [
    "# Converting M,F,I to numbers!\n",
    "rawSet_3 = []\n",
    "i_3 = 0\n",
    "for line in data:\n",
    "    rawSet_3.append([])\n",
    "    if line[0]=='F':\n",
    "        rawSet_3[i_3].append(1)\n",
    "        rawSet_3[i_3].append(0)\n",
    "        rawSet_3[i_3].append(0)\n",
    "        #print(rawSet_3[i_3],i_3)\n",
    "    elif line[0]=='I':\n",
    "        rawSet_3[i_3].append(0)\n",
    "        rawSet_3[i_3].append(1)\n",
    "        rawSet_3[i_3].append(0)\n",
    "    else:\n",
    "        rawSet_3[i_3].append(0)\n",
    "        rawSet_3[i_3].append(0)\n",
    "        rawSet_3[i_3].append(1)\n",
    "    for x in line[1:]:\n",
    "        rawSet_3[i_3].append(float(x))\n",
    "    i_3+=1\n",
    "    #print(rawSet_3[i_3-1])"
   ]
  },
  {
   "cell_type": "code",
   "execution_count": 53,
   "metadata": {},
   "outputs": [
    {
     "name": "stdout",
     "output_type": "stream",
     "text": [
      "[0, 0, 1, 0.35, 0.265, 0.09, 0.2255, 0.0995, 0.0485, 0.07, 7.0]\n"
     ]
    }
   ],
   "source": [
    "print(rawSet_3[0])"
   ]
  },
  {
   "cell_type": "markdown",
   "metadata": {},
   "source": [
    "## (B)"
   ]
  },
  {
   "cell_type": "code",
   "execution_count": 101,
   "metadata": {},
   "outputs": [
    {
     "name": "stdout",
     "output_type": "stream",
     "text": [
      "means:  [0.31297893 0.32136015 0.36566092 0.52400862 0.40789152 0.13952706\n",
      " 0.82881753 0.35939978 0.18061267 0.23885213 9.93247126]\n",
      "std devs:  [0.46370585 0.46699872 0.481615   0.12008817 0.09923765 0.04182138\n",
      " 0.49036483 0.22195313 0.10960733 0.13919588 3.22321548]\n"
     ]
    }
   ],
   "source": [
    "# get means, stds\n",
    "rawSet_3np = np.array(rawSet_3)\n",
    "means = rawSet_3np.mean(axis=0)\n",
    "print(\"means: \", means)\n",
    "stds = rawSet_3np.std(axis=0)\n",
    "print(\"std devs: \", stds)\n",
    "# standardise:\n",
    "\n",
    "for line in rawSet_3np:\n",
    "    for i, x in enumerate(line[:-1]):\n",
    "        line[i] = (line[i]-means[i])/stds[i]"
   ]
  },
  {
   "cell_type": "code",
   "execution_count": 99,
   "metadata": {},
   "outputs": [
    {
     "name": "stdout",
     "output_type": "stream",
     "text": [
      "[[-0.67495143 -0.68813926  1.31710822 ... -1.20532696 -1.21305408\n",
      "   7.        ]\n",
      " [ 1.4815881  -0.68813926 -0.75923905 ... -0.35684354 -0.20727719\n",
      "   9.        ]\n",
      " [-0.67495143 -0.68813926  1.31710822 ... -0.60773918 -0.60240383\n",
      "  10.        ]\n",
      " ...\n",
      " [-0.67495143 -0.68813926  1.31710822 ...  0.97518418  0.49676663\n",
      "   9.        ]\n",
      " [ 1.4815881  -0.68813926 -0.75923905 ...  0.73341202  0.41055718\n",
      "  10.        ]\n",
      " [-0.67495143 -0.68813926  1.31710822 ...  1.78717368  1.84019719\n",
      "  12.        ]]\n"
     ]
    }
   ],
   "source": [
    "print(rawSet_3np)"
   ]
  },
  {
   "cell_type": "code",
   "execution_count": 125,
   "metadata": {},
   "outputs": [
    {
     "name": "stdout",
     "output_type": "stream",
     "text": [
      "[1.         1.         1.         1.         1.         1.\n",
      " 1.         1.         1.         1.         3.22321548]\n"
     ]
    }
   ],
   "source": [
    "print(rawSet_3np.std(axis=0))\n"
   ]
  },
  {
   "cell_type": "markdown",
   "metadata": {},
   "source": [
    "## (C)"
   ]
  },
  {
   "cell_type": "code",
   "execution_count": 112,
   "metadata": {},
   "outputs": [],
   "source": [
    "def myLinRidgeReg(Xd, Yd, λ): #returns regression weights, Xd: matrix, Yd:vector\n",
    "    # Xd, Yd are python lists!\n",
    "    X = np.array(Xd)\n",
    "    Y = np.array(Yd)\n",
    "    a1 = np.matmul(X.T, X)\n",
    "    #print(a1.shape)\n",
    "    a2 = np.identity(a1.shape[0])\n",
    "    a2 *= λ\n",
    "    a3 = np.linalg.inv(np.add(a2, a1))\n",
    "    #print(type(a3))\n",
    "    #print(a3.shape)\n",
    "    #print(X.T.shape)\n",
    "    a4 = np.matmul(a3, X.T)\n",
    "    a5 = np.matmul(a4, Y)\n",
    "    return a5\n",
    "    \n",
    "def myLinRidgeRegVal(xd, Wd): # \n",
    "    X = np.array(xd)\n",
    "    W = np.array(Wd)\n",
    "    return np.dot(X, W)\n",
    "\n",
    "def meanSquaredError(T, Tdash):\n",
    "    sum=0.0\n",
    "    if len(T) != len(Tdash):\n",
    "        print(\"Error in MSE function, len not same!\")\n",
    "        return 0.0\n",
    "    for i, x in enumerate(T):\n",
    "        sum += ((T[i]-Tdash[i])**2)\n",
    "    \n",
    "    sum /= len(T)\n",
    "    return sum"
   ]
  },
  {
   "cell_type": "markdown",
   "metadata": {},
   "source": [
    "## (D and E)"
   ]
  },
  {
   "cell_type": "code",
   "execution_count": 130,
   "metadata": {},
   "outputs": [],
   "source": [
    "#shuffle ( a copy of the original array)!\n",
    "import random\n",
    "\n",
    "rawSet_3np_new = []\n",
    "\n",
    "# inserting bias term:\n",
    "for i, line in enumerate(rawSet_3np):\n",
    "    rawSet_3np_new.append(np.insert(rawSet_3np[i], 0, 1, axis=0))\n",
    "\n",
    "#print(rawSet_3np_new)\n",
    "    \n",
    "workSet_3 = rawSet_3np_new.copy()\n",
    "np.random.shuffle(workSet_3)\n"
   ]
  },
  {
   "cell_type": "code",
   "execution_count": 131,
   "metadata": {},
   "outputs": [],
   "source": [
    "#partition fraction\n",
    "pf_3 = 0.2\n",
    "\n",
    "# Split into test and train data\n",
    "n_3 = len(workSet_3)\n",
    "testMat_3 = workSet_3[:int(pf_3*n_3)] \n",
    "trainMat_3 = workSet_3[int(pf_3*n_3):]\n",
    "\n",
    "trainX_3 = []\n",
    "trainY_3 = []\n",
    "for line in trainMat_3:\n",
    "    trainX_3.append(line[:-1])\n",
    "    trainY_3.append(line[-1])\n",
    "\n",
    "testX_3 = []\n",
    "testY_3 = []\n",
    "for line in testMat_3:\n",
    "    testX_3.append(line[:-1])\n",
    "    testY_3.append(line[-1])\n",
    "    "
   ]
  },
  {
   "cell_type": "code",
   "execution_count": 132,
   "metadata": {},
   "outputs": [],
   "source": [
    "# different values of lambda:\n",
    "λ_list = [0, 0.1,0.2,0.5,1,2,10,80]"
   ]
  },
  {
   "cell_type": "code",
   "execution_count": 133,
   "metadata": {},
   "outputs": [
    {
     "name": "stdout",
     "output_type": "stream",
     "text": [
      "TEST DATA PERFORMANCE: \n",
      "\n",
      "for λ:  0 \n",
      "wts:  [ 9.94871925 -0.28184288 -0.75967459 -0.30855025 -0.08508146  1.14383586\n",
      "  0.40955645  4.24827126 -4.33127244 -1.09391563  1.27572596]\n",
      "MSE:  5.14606560487793\n",
      "\n",
      "for λ:  0.1 \n",
      "wts:  [ 9.94837717  0.11823575 -0.26223858  0.14044096 -0.08415446  1.14258387\n",
      "  0.40960614  4.22914972 -4.32220996 -1.08942663  1.28209524]\n",
      "MSE:  5.141824704400139\n",
      "\n",
      "for λ:  0.2 \n",
      "wts:  [ 9.94810741  0.11830517 -0.26232173  0.14045474 -0.08323078  1.14133739\n",
      "  0.40965611  4.21019857 -4.31322233 -1.08497842  1.2884025 ]\n",
      "MSE:  5.142048063576559\n",
      "\n",
      "for λ:  0.5 \n",
      "wts:  [ 9.94729664  0.11851105 -0.26256779  0.14049511 -0.08047958  1.13763068\n",
      "  0.40980757  4.15434498 -4.28669876 -1.07187321  1.30696029]\n",
      "MSE:  5.142743357062292\n",
      "\n",
      "for λ:  1 \n",
      "wts:  [ 9.94594052  0.11884659 -0.26296712  0.14055926 -0.07595987  1.13155977\n",
      "  0.41006495  4.06445972 -4.24390082 -1.05079809  1.33672364]\n",
      "MSE:  5.143978446652073\n",
      "\n",
      "for λ:  2 \n",
      "wts:  [ 9.94321158  0.11949107 -0.26372804  0.14067658 -0.06716228  1.11980362\n",
      "  0.4105964   3.89581371 -4.1631954  -1.01130915  1.39220164]\n",
      "MSE:  5.146683497760134\n",
      "\n",
      "for λ:  10 \n",
      "wts:  [ 9.92083455e+00  1.23714551e-01 -2.68498583e-01  1.41235910e-01\n",
      " -7.12393295e-03  1.04102878e+00  4.15326841e-01  2.92347918e+00\n",
      " -3.68355788e+00 -7.85304212e-01  1.69903370e+00]\n",
      "MSE:  5.172412223237054\n",
      "\n",
      "for λ:  80 \n",
      "wts:  [ 9.7194547   0.14114698 -0.283832    0.13931979  0.1925642   0.76813092\n",
      "  0.45332616  0.91869173 -2.41187907 -0.33341586  2.06236349]\n",
      "MSE:  5.341464999543754\n"
     ]
    }
   ],
   "source": [
    "print(\"TEST DATA PERFORMANCE: \")\n",
    "\n",
    "for λ in λ_list:\n",
    "    cur_wts = myLinRidgeReg(trainX_3, trainY_3, λ)\n",
    "    preds = myLinRidgeRegVal(testX_3, cur_wts)\n",
    "    print(\"\\nfor λ: \", λ, \"\\nwts: \", cur_wts)\n",
    "    print(\"MSE: \", meanSquaredError(preds, testY_3))"
   ]
  },
  {
   "cell_type": "code",
   "execution_count": 134,
   "metadata": {},
   "outputs": [
    {
     "name": "stdout",
     "output_type": "stream",
     "text": [
      "Training DATA PERFORMANCE: \n",
      "\n",
      "for λ:  0 \n",
      "wts:  [ 9.94871925 -0.28184288 -0.75967459 -0.30855025 -0.08508146  1.14383586\n",
      "  0.40955645  4.24827126 -4.33127244 -1.09391563  1.27572596]\n",
      "MSE:  4.7176637503404395\n",
      "\n",
      "for λ:  0.1 \n",
      "wts:  [ 9.94837717  0.11823575 -0.26223858  0.14044096 -0.08415446  1.14258387\n",
      "  0.40960614  4.22914972 -4.32220996 -1.08942663  1.28209524]\n",
      "MSE:  4.7108778215374985\n",
      "\n",
      "for λ:  0.2 \n",
      "wts:  [ 9.94810741  0.11830517 -0.26232173  0.14045474 -0.08323078  1.14133739\n",
      "  0.40965611  4.21019857 -4.31322233 -1.08497842  1.2884025 ]\n",
      "MSE:  4.710888556495166\n",
      "\n",
      "for λ:  0.5 \n",
      "wts:  [ 9.94729664  0.11851105 -0.26256779  0.14049511 -0.08047958  1.13763068\n",
      "  0.40980757  4.15434498 -4.28669876 -1.07187321  1.30696029]\n",
      "MSE:  4.7109617032758875\n",
      "\n",
      "for λ:  1 \n",
      "wts:  [ 9.94594052  0.11884659 -0.26296712  0.14055926 -0.07595987  1.13155977\n",
      "  0.41006495  4.06445972 -4.24390082 -1.05079809  1.33672364]\n",
      "MSE:  4.71121022188502\n",
      "\n",
      "for λ:  2 \n",
      "wts:  [ 9.94321158  0.11949107 -0.26372804  0.14067658 -0.06716228  1.11980362\n",
      "  0.4105964   3.89581371 -4.1631954  -1.01130915  1.39220164]\n",
      "MSE:  4.712116556246966\n",
      "\n",
      "for λ:  10 \n",
      "wts:  [ 9.92083455e+00  1.23714551e-01 -2.68498583e-01  1.41235910e-01\n",
      " -7.12393295e-03  1.04102878e+00  4.15326841e-01  2.92347918e+00\n",
      " -3.68355788e+00 -7.85304212e-01  1.69903370e+00]\n",
      "MSE:  4.729313697705553\n",
      "\n",
      "for λ:  80 \n",
      "wts:  [ 9.7194547   0.14114698 -0.283832    0.13931979  0.1925642   0.76813092\n",
      "  0.45332616  0.91869173 -2.41187907 -0.33341586  2.06236349]\n",
      "MSE:  4.920466417372839\n"
     ]
    }
   ],
   "source": [
    "print(\"Training DATA PERFORMANCE: \")\n",
    "\n",
    "for λ in λ_list:\n",
    "    cur_wts = myLinRidgeReg(trainX_3, trainY_3, λ)\n",
    "    preds = myLinRidgeRegVal(trainX_3, cur_wts)\n",
    "    print(\"\\nfor λ: \", λ, \"\\nwts: \", cur_wts)\n",
    "    print(\"MSE: \", meanSquaredError(preds, trainY_3))"
   ]
  },
  {
   "cell_type": "markdown",
   "metadata": {},
   "source": [
    "### (E)\n",
    "λ =  0.1 performs the best i"
   ]
  }
 ],
 "metadata": {
  "kernelspec": {
   "display_name": "Python 3",
   "language": "python",
   "name": "python3"
  },
  "language_info": {
   "codemirror_mode": {
    "name": "ipython",
    "version": 3
   },
   "file_extension": ".py",
   "mimetype": "text/x-python",
   "name": "python",
   "nbconvert_exporter": "python",
   "pygments_lexer": "ipython3",
   "version": "3.6.7"
  },
  "toc": {
   "base_numbering": 1,
   "nav_menu": {},
   "number_sections": true,
   "sideBar": true,
   "skip_h1_title": false,
   "title_cell": "Table of Contents",
   "title_sidebar": "Contents",
   "toc_cell": false,
   "toc_position": {},
   "toc_section_display": true,
   "toc_window_display": true
  }
 },
 "nbformat": 4,
 "nbformat_minor": 2
}
