{
 "cells": [
  {
   "cell_type": "markdown",
   "metadata": {},
   "source": [
    "# AML Assignment 3\n",
    "## Supreet Singh CS16BTECH11038"
   ]
  },
  {
   "cell_type": "markdown",
   "metadata": {},
   "source": [
    "# Q3"
   ]
  },
  {
   "cell_type": "markdown",
   "metadata": {},
   "source": [
    "## (A)\n"
   ]
  },
  {
   "cell_type": "code",
   "execution_count": 4,
   "metadata": {},
   "outputs": [],
   "source": [
    "# imports\n",
    "import numpy as np\n",
    "import csv"
   ]
  },
  {
   "cell_type": "code",
   "execution_count": 50,
   "metadata": {},
   "outputs": [],
   "source": [
    "#load data\n",
    "#f= open(\"linregdata\", \"r\")\n",
    "#rawSet_3 = np.loadtxt(f)\n",
    "with open(\"linregdata\") as f:\n",
    "    next(f, None)\n",
    "    data = [tuple(line) for line in csv.reader(f, delimiter=\",\")]\n",
    "    #print (\"Number of records: %d\" % (len(data)))"
   ]
  },
  {
   "cell_type": "code",
   "execution_count": 51,
   "metadata": {},
   "outputs": [
    {
     "name": "stdout",
     "output_type": "stream",
     "text": [
      "('M', '0.35', '0.265', '0.09', '0.2255', '0.0995', '0.0485', '0.07', '7')\n"
     ]
    }
   ],
   "source": [
    "print(data[0])"
   ]
  },
  {
   "cell_type": "code",
   "execution_count": 52,
   "metadata": {},
   "outputs": [],
   "source": [
    "# Converting M,F,I to numbers!\n",
    "rawSet_3 = []\n",
    "i_3 = 0\n",
    "for line in data:\n",
    "    rawSet_3.append([])\n",
    "    if line[0]=='F':\n",
    "        rawSet_3[i_3].append(1)\n",
    "        rawSet_3[i_3].append(0)\n",
    "        rawSet_3[i_3].append(0)\n",
    "        #print(rawSet_3[i_3],i_3)\n",
    "    elif line[0]=='I':\n",
    "        rawSet_3[i_3].append(0)\n",
    "        rawSet_3[i_3].append(1)\n",
    "        rawSet_3[i_3].append(0)\n",
    "    else:\n",
    "        rawSet_3[i_3].append(0)\n",
    "        rawSet_3[i_3].append(0)\n",
    "        rawSet_3[i_3].append(1)\n",
    "    for x in line[1:]:\n",
    "        rawSet_3[i_3].append(float(x))\n",
    "    i_3+=1\n",
    "    #print(rawSet_3[i_3-1])"
   ]
  },
  {
   "cell_type": "code",
   "execution_count": 53,
   "metadata": {},
   "outputs": [
    {
     "name": "stdout",
     "output_type": "stream",
     "text": [
      "[0, 0, 1, 0.35, 0.265, 0.09, 0.2255, 0.0995, 0.0485, 0.07, 7.0]\n"
     ]
    }
   ],
   "source": [
    "print(rawSet_3[0])"
   ]
  },
  {
   "cell_type": "markdown",
   "metadata": {},
   "source": [
    "## (B)"
   ]
  },
  {
   "cell_type": "code",
   "execution_count": 101,
   "metadata": {},
   "outputs": [
    {
     "name": "stdout",
     "output_type": "stream",
     "text": [
      "means:  [0.31297893 0.32136015 0.36566092 0.52400862 0.40789152 0.13952706\n",
      " 0.82881753 0.35939978 0.18061267 0.23885213 9.93247126]\n",
      "std devs:  [0.46370585 0.46699872 0.481615   0.12008817 0.09923765 0.04182138\n",
      " 0.49036483 0.22195313 0.10960733 0.13919588 3.22321548]\n"
     ]
    }
   ],
   "source": [
    "# get means, stds\n",
    "rawSet_3np = np.array(rawSet_3)\n",
    "means = rawSet_3np.mean(axis=0)\n",
    "print(\"means: \", means)\n",
    "stds = rawSet_3np.std(axis=0)\n",
    "print(\"std devs: \", stds)\n",
    "# standardise:\n",
    "\n",
    "for line in rawSet_3np:\n",
    "    for i, x in enumerate(line[:-1]):\n",
    "        line[i] = (line[i]-means[i])/stds[i]"
   ]
  },
  {
   "cell_type": "code",
   "execution_count": 99,
   "metadata": {},
   "outputs": [
    {
     "name": "stdout",
     "output_type": "stream",
     "text": [
      "[[-0.67495143 -0.68813926  1.31710822 ... -1.20532696 -1.21305408\n",
      "   7.        ]\n",
      " [ 1.4815881  -0.68813926 -0.75923905 ... -0.35684354 -0.20727719\n",
      "   9.        ]\n",
      " [-0.67495143 -0.68813926  1.31710822 ... -0.60773918 -0.60240383\n",
      "  10.        ]\n",
      " ...\n",
      " [-0.67495143 -0.68813926  1.31710822 ...  0.97518418  0.49676663\n",
      "   9.        ]\n",
      " [ 1.4815881  -0.68813926 -0.75923905 ...  0.73341202  0.41055718\n",
      "  10.        ]\n",
      " [-0.67495143 -0.68813926  1.31710822 ...  1.78717368  1.84019719\n",
      "  12.        ]]\n"
     ]
    }
   ],
   "source": [
    "print(rawSet_3np)"
   ]
  },
  {
   "cell_type": "code",
   "execution_count": 125,
   "metadata": {},
   "outputs": [
    {
     "name": "stdout",
     "output_type": "stream",
     "text": [
      "[1.         1.         1.         1.         1.         1.\n",
      " 1.         1.         1.         1.         3.22321548]\n"
     ]
    }
   ],
   "source": [
    "print(rawSet_3np.std(axis=0))\n"
   ]
  },
  {
   "cell_type": "markdown",
   "metadata": {},
   "source": [
    "## (C)"
   ]
  },
  {
   "cell_type": "code",
   "execution_count": 176,
   "metadata": {},
   "outputs": [],
   "source": [
    "def myLinRidgeReg(Xd, Yd, λ): #returns regression weights, Xd: matrix, Yd:vector\n",
    "    # Xd, Yd are python lists!\n",
    "    X = np.array(Xd)\n",
    "    Y = np.array(Yd)\n",
    "    a1 = np.matmul(X.T, X)\n",
    "    #print(a1.shape)\n",
    "    a2 = np.identity(a1.shape[0])\n",
    "    a2 *= λ\n",
    "    a3 = np.linalg.inv(np.add(a2, a1))\n",
    "    #print(type(a3))\n",
    "    #print(a3.shape)\n",
    "    #print(X.T.shape)\n",
    "    a4 = np.matmul(a3, X.T)\n",
    "    a5 = np.matmul(a4, Y)\n",
    "    return a5\n",
    "    \n",
    "def myLinRidgeRegVal(xd, Wd): # \n",
    "    X = np.array(xd)\n",
    "    W = np.array(Wd)\n",
    "    return np.dot(X, W)\n",
    "\n",
    "def meanSquaredError(T, Tdash):\n",
    "    sum=0.0\n",
    "    if len(T) != len(Tdash):\n",
    "        print(\"Error in MSE function, len not same!\")\n",
    "        return 0.0\n",
    "    for i, x in enumerate(T):\n",
    "        sum += ((T[i]-Tdash[i])**2)\n",
    "    \n",
    "    sum /= len(T)\n",
    "    return sum"
   ]
  },
  {
   "cell_type": "markdown",
   "metadata": {},
   "source": [
    "## (D and E)"
   ]
  },
  {
   "cell_type": "code",
   "execution_count": 130,
   "metadata": {},
   "outputs": [],
   "source": [
    "#shuffle ( a copy of the original array)!\n",
    "import random\n",
    "\n",
    "rawSet_3np_new = []\n",
    "\n",
    "# inserting bias term:\n",
    "for i, line in enumerate(rawSet_3np):\n",
    "    rawSet_3np_new.append(np.insert(rawSet_3np[i], 0, 1, axis=0))\n",
    "\n",
    "#print(rawSet_3np_new)\n",
    "    \n",
    "workSet_3 = rawSet_3np_new.copy()\n",
    "np.random.shuffle(workSet_3)\n"
   ]
  },
  {
   "cell_type": "code",
   "execution_count": 200,
   "metadata": {},
   "outputs": [],
   "source": [
    "#partition fraction\n",
    "pf_3 = 0.2\n",
    "\n",
    "# Split into test and train data\n",
    "n_3 = len(workSet_3)\n",
    "testMat_3 = workSet_3[:int(pf_3*n_3)] \n",
    "trainMat_3 = workSet_3[int(pf_3*n_3):]\n",
    "\n",
    "trainX_3 = []\n",
    "trainY_3 = []\n",
    "for line in trainMat_3:\n",
    "    trainX_3.append(line[:-1])\n",
    "    trainY_3.append(line[-1])\n",
    "\n",
    "testX_3 = []\n",
    "testY_3 = []\n",
    "for line in testMat_3:\n",
    "    testX_3.append(line[:-1])\n",
    "    testY_3.append(line[-1])\n",
    "    "
   ]
  },
  {
   "cell_type": "code",
   "execution_count": 201,
   "metadata": {},
   "outputs": [],
   "source": [
    "# different values of lambda:\n",
    "λ_list = [0, 0.1,0.2,0.5,1,2,10,80]"
   ]
  },
  {
   "cell_type": "code",
   "execution_count": 202,
   "metadata": {},
   "outputs": [
    {
     "name": "stdout",
     "output_type": "stream",
     "text": [
      "TEST DATA PERFORMANCE: \n",
      "\n",
      "for λ:  0 \n",
      "wts:  [ 9.94871925 -0.28184288 -0.75967459 -0.30855025 -0.08508146  1.14383586\n",
      "  0.40955645  4.24827126 -4.33127244 -1.09391563  1.27572596]\n",
      "MSE:  5.14606560487793\n",
      "\n",
      "for λ:  0.1 \n",
      "wts:  [ 9.94837717  0.11823575 -0.26223858  0.14044096 -0.08415446  1.14258387\n",
      "  0.40960614  4.22914972 -4.32220996 -1.08942663  1.28209524]\n",
      "MSE:  5.141824704400139\n",
      "\n",
      "for λ:  0.2 \n",
      "wts:  [ 9.94810741  0.11830517 -0.26232173  0.14045474 -0.08323078  1.14133739\n",
      "  0.40965611  4.21019857 -4.31322233 -1.08497842  1.2884025 ]\n",
      "MSE:  5.142048063576559\n",
      "\n",
      "for λ:  0.5 \n",
      "wts:  [ 9.94729664  0.11851105 -0.26256779  0.14049511 -0.08047958  1.13763068\n",
      "  0.40980757  4.15434498 -4.28669876 -1.07187321  1.30696029]\n",
      "MSE:  5.142743357062292\n",
      "\n",
      "for λ:  1 \n",
      "wts:  [ 9.94594052  0.11884659 -0.26296712  0.14055926 -0.07595987  1.13155977\n",
      "  0.41006495  4.06445972 -4.24390082 -1.05079809  1.33672364]\n",
      "MSE:  5.143978446652073\n",
      "\n",
      "for λ:  2 \n",
      "wts:  [ 9.94321158  0.11949107 -0.26372804  0.14067658 -0.06716228  1.11980362\n",
      "  0.4105964   3.89581371 -4.1631954  -1.01130915  1.39220164]\n",
      "MSE:  5.146683497760134\n",
      "\n",
      "for λ:  10 \n",
      "wts:  [ 9.92083455e+00  1.23714551e-01 -2.68498583e-01  1.41235910e-01\n",
      " -7.12393295e-03  1.04102878e+00  4.15326841e-01  2.92347918e+00\n",
      " -3.68355788e+00 -7.85304212e-01  1.69903370e+00]\n",
      "MSE:  5.172412223237054\n",
      "\n",
      "for λ:  80 \n",
      "wts:  [ 9.7194547   0.14114698 -0.283832    0.13931979  0.1925642   0.76813092\n",
      "  0.45332616  0.91869173 -2.41187907 -0.33341586  2.06236349]\n",
      "MSE:  5.341464999543754\n"
     ]
    }
   ],
   "source": [
    "print(\"TEST DATA PERFORMANCE: \")\n",
    "\n",
    "for λ in λ_list:\n",
    "    cur_wts = myLinRidgeReg(trainX_3, trainY_3, λ)\n",
    "    preds = myLinRidgeRegVal(testX_3, cur_wts)\n",
    "    print(\"\\nfor λ: \", λ, \"\\nwts: \", cur_wts)\n",
    "    print(\"MSE: \", meanSquaredError(preds, testY_3))"
   ]
  },
  {
   "cell_type": "code",
   "execution_count": 199,
   "metadata": {},
   "outputs": [
    {
     "name": "stdout",
     "output_type": "stream",
     "text": [
      "Training DATA PERFORMANCE: \n",
      "\n",
      "for λ:  0 \n",
      "wts:  [ 9.93940322 -0.1721415  -0.53409821 -0.11206004 -0.15879552  1.20733792\n",
      "  0.43256186  4.41380867 -4.34212315 -1.14074206  1.15212861]\n",
      "MSE:  4.8172999962734835\n",
      "\n",
      "for λ:  0.1 \n",
      "wts:  [ 9.93931403  0.12413108 -0.26761106  0.13997428 -0.15786573  1.20614893\n",
      "  0.43264419  4.39677696 -4.33404775 -1.13679466  1.15776305]\n",
      "MSE:  4.815037367093363\n",
      "\n",
      "for λ:  0.2 \n",
      "wts:  [ 9.93905321  0.12419481 -0.26769293  0.13999231 -0.15693871  1.20496409\n",
      "  0.4327264   4.37987494 -4.32602951 -1.13287793  1.16335084]\n",
      "MSE:  4.815046216491008\n",
      "\n",
      "for λ:  0.5 \n",
      "wts:  [ 9.93827064  0.12438415 -0.26793563  0.14004535 -0.15417417  1.20143438\n",
      "  0.43297229  4.32993236 -4.3023114  -1.12130835  1.17983962]\n",
      "MSE:  4.815106746616863\n",
      "\n",
      "for λ:  1 \n",
      "wts:  [ 9.93696599  0.12469376 -0.26833076  0.14013038 -0.14962137  1.19563301\n",
      "  0.4333797   4.24915518 -4.26386613 -1.10260756  1.20643596]\n",
      "MSE:  4.815313841838157\n",
      "\n",
      "for λ:  2 \n",
      "wts:  [ 9.93435547  0.12529196 -0.26908789  0.14028858 -0.14071871  1.18432723\n",
      "  0.43418573  4.09623676 -4.19078471 -1.06724721  1.25652289]\n",
      "MSE:  4.816078635738386\n",
      "\n",
      "for λ:  10 \n",
      "wts:  [ 9.91344159  0.1293092  -0.27394369  0.14112915 -0.07842649  1.10619227\n",
      "  0.44025762  3.17836601 -3.74110786 -0.85638492  1.54744274]\n",
      "MSE:  4.831470186151336\n",
      "\n",
      "for λ:  80 \n",
      "wts:  [ 9.73270449  0.14666136 -0.29004239  0.14003238  0.15086018  0.80968101\n",
      "  0.47674493  1.06491896 -2.46633658 -0.3848263   1.99505149]\n",
      "MSE:  5.007842878394349\n"
     ]
    }
   ],
   "source": [
    "print(\"Training DATA PERFORMANCE: \")\n",
    "\n",
    "for λ in λ_list:\n",
    "    cur_wts = myLinRidgeReg(trainX_3, trainY_3, λ)\n",
    "    preds = myLinRidgeRegVal(trainX_3, cur_wts)\n",
    "    print(\"\\nfor λ: \", λ, \"\\nwts: \", cur_wts)\n",
    "    print(\"MSE: \", meanSquaredError(preds, trainY_3))"
   ]
  },
  {
   "cell_type": "markdown",
   "metadata": {},
   "source": [
    "### (E)\n",
    "\n",
    "* λ =  0.1 performs the best for test data.\n",
    "* Weights (absolute value) keeps decreasing as value of λ is increased.\n",
    "* first component of weights here is the bias.\n",
    "* Attributes 5 and 6 in the original data structure - **Whole weight and shuckled weight** seem to be the most significant attributes.\n",
    "* The least significant attribute seems to be **Length ** (2nd in the original data)\n",
    "\n",
    "### Now removing the attribute 'F' and 'Length' -  2 least significant attributes:"
   ]
  },
  {
   "cell_type": "code",
   "execution_count": 151,
   "metadata": {},
   "outputs": [],
   "source": [
    "#removing attribs @ index 1, 4\n",
    "trainX_3e = np.array( trainX_3)[:,[0,2,3,5,6,7,8,9,10]]\n",
    "#print(trainX_3e)\n",
    "testX_3e = np.array( testX_3)[:,[0,2,3,5,6,7,8,9,10]]\n"
   ]
  },
  {
   "cell_type": "code",
   "execution_count": 152,
   "metadata": {},
   "outputs": [
    {
     "name": "stdout",
     "output_type": "stream",
     "text": [
      "New TEST DATA PERFORMANCE: \n",
      "\n",
      "for λ:  0 \n",
      "wts:  [ 9.94867094 -0.38236543  0.01753181  1.06577067  0.40899196  4.24889919\n",
      " -4.33639362 -1.09886001  1.27827998]\n",
      "MSE:  5.141039271593117\n",
      "\n",
      "for λ:  0.1 \n",
      "wts:  [ 9.94840119 -0.38249499  0.01748337  1.06539041  0.40904535  4.22976194\n",
      " -4.32727863 -1.09431473  1.28461768]\n",
      "MSE:  5.141268239775617\n",
      "\n",
      "for λ:  0.2 \n",
      "wts:  [ 9.94813119 -0.38262364  0.01743518  1.0650122   0.40909907  4.21079539\n",
      " -4.3182387  -1.08981047  1.29089352]\n",
      "MSE:  5.141501507244187\n",
      "\n",
      "for λ:  0.5 \n",
      "wts:  [ 9.94731965 -0.38300424  0.01729205  1.06388957  0.4092621   4.15489746\n",
      " -4.29155954 -1.07653835  1.3093581 ]\n",
      "MSE:  5.142225725991727\n",
      "\n",
      "for λ:  1 \n",
      "wts:  [ 9.94596226 -0.38362141  0.01705816  1.06205702  0.40953978  4.06494425\n",
      " -4.24850653 -1.05518929  1.33896956]\n",
      "MSE:  5.143506441174799\n",
      "\n",
      "for λ:  2 \n",
      "wts:  [ 9.94323078 -0.38479601  0.01660666  1.05852601  0.41011545  3.89618303\n",
      " -4.16730617 -1.01516774  1.39415665]\n",
      "MSE:  5.146293646971869\n",
      "\n",
      "for λ:  10 \n",
      "wts:  [ 9.92083389 -0.39213845  0.01356619  1.03488556  0.41533803  2.92362179\n",
      " -3.68430045 -0.78551874  1.69923885]\n",
      "MSE:  5.172361620090073\n",
      "\n",
      "for λ:  80 \n",
      "wts:  [ 9.71932692e+00 -4.16236919e-01 -7.70827485e-05  9.18666270e-01\n",
      "  4.60208014e-01  9.26563598e-01 -2.39904810e+00 -3.19118907e-01\n",
      "  2.06511730e+00]\n",
      "MSE:  5.340283604903134\n"
     ]
    }
   ],
   "source": [
    "print(\"New TEST DATA PERFORMANCE: \")\n",
    "\n",
    "for λ in λ_list:\n",
    "    cur_wts = myLinRidgeReg(trainX_3e, trainY_3, λ)\n",
    "    preds = myLinRidgeRegVal(testX_3e, cur_wts)\n",
    "    print(\"\\nfor λ: \", λ, \"\\nwts: \", cur_wts)\n",
    "    print(\"MSE: \", meanSquaredError(preds, testY_3))"
   ]
  },
  {
   "cell_type": "markdown",
   "metadata": {},
   "source": [
    "### Results: MSE Improves slightly"
   ]
  },
  {
   "cell_type": "markdown",
   "metadata": {},
   "source": [
    "## (F)"
   ]
  },
  {
   "cell_type": "code",
   "execution_count": 220,
   "metadata": {},
   "outputs": [],
   "source": [
    "mses_3_train = []\n",
    "mses_3_test = []\n",
    "\n",
    "pf_list = [0.1, 0.15, 0.2, 0.25, 0.3]\n",
    "n_lp = len(rawSet_3)\n",
    "λ_list = [0, 0.1,0.2,1,2]"
   ]
  },
  {
   "cell_type": "code",
   "execution_count": 221,
   "metadata": {
    "code_folding": []
   },
   "outputs": [],
   "source": [
    "\n",
    "\n",
    "for pf in pf_list:\n",
    "    mse_list_train = []\n",
    "    mse_list_test = []\n",
    "\n",
    "    for i_lp in range(25):\n",
    "        mse_inner_train = []\n",
    "        mse_inner_test = []\n",
    "\n",
    "        # get means, stds\n",
    "        rawSet_3np_loop = np.array(rawSet_3)\n",
    "        rawSet_3np_loop_bs = []\n",
    "        #get means, stddev\n",
    "        means = rawSet_3np_loop[int(pf*n_lp):].mean(axis=0)\n",
    "        #print(\"means: \", means)\n",
    "        stds = rawSet_3np_loop[int(pf*n_lp):].std(axis=0)\n",
    "        #print(\"std devs: \", stds)\n",
    "\n",
    "        # standardise:\n",
    "        for line in rawSet_3np_loop:\n",
    "            for i, x in enumerate(line[:-1]):\n",
    "                line[i] = (line[i]-means[i])/stds[i]\n",
    "                \n",
    "        # inserting bias term:\n",
    "        for i, line in enumerate(rawSet_3np):\n",
    "            rawSet_3np_loop_bs.append(np.insert(rawSet_3np_loop[i], 0, 1, axis=0))\n",
    "       \n",
    "        rawSet_3np_loop_bias = np.array(rawSet_3np_loop_bs)\n",
    "        #shuffle\n",
    "        np.random.shuffle(rawSet_3np_loop_bias)\n",
    "\n",
    "        # get test and train matrices\n",
    "        testMat_3 = rawSet_3np_loop_bias[:int(pf*n_lp)] \n",
    "        trainMat_3 = rawSet_3np_loop_bias[int(pf*n_lp):]\n",
    "        \n",
    "        \n",
    "        trainX_3 = []\n",
    "        trainY_3 = []\n",
    "        for line in trainMat_3:\n",
    "            trainX_3.append(line[:-1])\n",
    "            trainY_3.append(line[-1])\n",
    "\n",
    "        testX_3 = []\n",
    "        testY_3 = []\n",
    "        for line in testMat_3:\n",
    "            testX_3.append(line[:-1])\n",
    "            testY_3.append(line[-1])\n",
    "        \n",
    "        \n",
    "        # train\n",
    "        # different values of lambda:\n",
    "        \n",
    "        for λ in λ_list:\n",
    "            cur_wts = myLinRidgeReg(trainX_3, trainY_3, λ)\n",
    "            preds = myLinRidgeRegVal(testX_3, cur_wts)\n",
    "            #print(\"\\nfor λ: \", λ, \"\\nwts: \", cur_wts)\n",
    "            #print(\"MSE: \", meanSquaredError(preds, testY_3))\n",
    "            mse_inner_test.append(meanSquaredError(preds, testY_3))\n",
    "            \n",
    "            preds = myLinRidgeRegVal(trainX_3, cur_wts)\n",
    "            mse_inner_train.append(meanSquaredError(preds, trainY_3))\n",
    "            \n",
    "        mse_list_test.append(mse_inner_test)\n",
    "        mse_list_train.append(mse_inner_train)\n",
    "        \n",
    "        \n",
    "    mses_3_test.append(mse_list_test)\n",
    "    mses_3_train.append(mse_list_train)"
   ]
  },
  {
   "cell_type": "code",
   "execution_count": 222,
   "metadata": {},
   "outputs": [
    {
     "data": {
      "image/png": "[encoded data removed]",
      "text/plain": [
       "<Figure size 432x288 with 2 Axes>"
      ]
     },
     "metadata": {
      "needs_background": "light"
     },
     "output_type": "display_data"
    },
    {
     "data": {
      "image/png": "[encoded data removed]",
      "text/plain": [
       "<Figure size 432x288 with 2 Axes>"
      ]
     },
     "metadata": {
      "needs_background": "light"
     },
     "output_type": "display_data"
    },
    {
     "data": {
      "image/png": "[encoded data removed]",
      "text/plain": [
       "<Figure size 432x288 with 2 Axes>"
      ]
     },
     "metadata": {
      "needs_background": "light"
     },
     "output_type": "display_data"
    },
    {
     "data": {
      "image/png": "[encoded data removed]",
      "text/plain": [
       "<Figure size 432x288 with 2 Axes>"
      ]
     },
     "metadata": {
      "needs_background": "light"
     },
     "output_type": "display_data"
    },
    {
     "data": {
      "image/png": "[encoded data removed]",
      "text/plain": [
       "<Figure size 432x288 with 2 Axes>"
      ]
     },
     "metadata": {
      "needs_background": "light"
     },
     "output_type": "display_data"
    }
   ],
   "source": [
    "# Plot these values now\n",
    "import matplotlib.pyplot as plt\n",
    "\n",
    "for i, pf in enumerate(pf_list):\n",
    "    fig, ax1 = plt.subplots()\n",
    "    \n",
    "    ax1.set_title(\"For pf: \"+str(pf))\n",
    "\n",
    "    ax2 = ax1.twinx()\n",
    "    ax1.plot(λ_list, np.array(mses_3_test[i]).mean(axis=0), 'g-')\n",
    "    ax2.plot(λ_list, np.array(mses_3_train[i]).mean(axis=0), 'b-')\n",
    "\n",
    "    ax1.set_xlabel('λ values')\n",
    "    ax1.set_ylabel('Test MSES', color='g')\n",
    "    ax2.set_ylabel('Train MSES', color='b')\n",
    "\n",
    "    plt.show()"
   ]
  },
  {
   "cell_type": "markdown",
   "metadata": {},
   "source": [
    "## (G)\n",
    "### Min MSE vs PF"
   ]
  },
  {
   "cell_type": "code",
   "execution_count": 223,
   "metadata": {},
   "outputs": [
    {
     "data": {
      "image/png": "[encoded data removed]",
      "text/plain": [
       "<Figure size 432x288 with 1 Axes>"
      ]
     },
     "metadata": {
      "needs_background": "light"
     },
     "output_type": "display_data"
    }
   ],
   "source": [
    "lst = []\n",
    "arg_3 = 0\n",
    "\n",
    "for i, pf in enumerate(pf_list):\n",
    "    lst.append(np.array(mses_3_test[i]).mean(axis=0).min())\n",
    "\n",
    "# needed for part H\n",
    "arg_3 = np.array(lst).argmin()\n",
    "\n",
    "plt.xlabel(\"Partition Fraction\")\n",
    "plt.ylabel(\"Min avg MSEs\")\n",
    "plt.plot(pf_list, lst)\n",
    "plt.show()    "
   ]
  },
  {
   "cell_type": "markdown",
   "metadata": {},
   "source": [
    "### λ which gave min MSE vs PF"
   ]
  },
  {
   "cell_type": "code",
   "execution_count": 224,
   "metadata": {},
   "outputs": [
    {
     "data": {
      "image/png": "[encoded data removed]",
      "text/plain": [
       "<Figure size 432x288 with 1 Axes>"
      ]
     },
     "metadata": {
      "needs_background": "light"
     },
     "output_type": "display_data"
    }
   ],
   "source": [
    "lst = []\n",
    "for i, pf in enumerate(pf_list):\n",
    "    lst.append(λ_list[np.array(mses_3_test[i]).mean(axis=0).argmin()])\n",
    "\n",
    "plt.xlabel(\"Partition Fraction\")\n",
    "plt.ylabel(\"λ which gave min avg MSEs\")\n",
    "plt.plot(pf_list, lst)\n",
    "plt.show()"
   ]
  },
  {
   "cell_type": "markdown",
   "metadata": {},
   "source": [
    "## (H)"
   ]
  },
  {
   "cell_type": "code",
   "execution_count": 227,
   "metadata": {},
   "outputs": [],
   "source": [
    "# Get the optimum values.\n",
    "pf_o = pf_list[arg_3]\n",
    "l_o = λ_list[np.array(mses_3_test[arg_3]).mean(axis=0).argmin()]\n"
   ]
  },
  {
   "cell_type": "code",
   "execution_count": 243,
   "metadata": {},
   "outputs": [
    {
     "data": {
      "image/png": "[encoded data removed]",
      "text/plain": [
       "<Figure size 432x288 with 1 Axes>"
      ]
     },
     "metadata": {
      "needs_background": "light"
     },
     "output_type": "display_data"
    }
   ],
   "source": [
    "rawSet_3np_loop = np.array(rawSet_3)\n",
    "rawSet_3np_loop_bs = []\n",
    "#get means, stddev\n",
    "means = rawSet_3np_loop[int(pf_o*n_lp):].mean(axis=0)\n",
    "        #print(\"means: \", means)\n",
    "stds = rawSet_3np_loop[int(pf_o*n_lp):].std(axis=0)\n",
    "#print(\"std devs: \", stds)\n",
    "\n",
    "        # standardise:\n",
    "for line in rawSet_3np_loop:\n",
    "    for i, x in enumerate(line[:-1]):\n",
    "        line[i] = (line[i]-means[i])/stds[i]\n",
    "                \n",
    "# inserting bias term:\n",
    "for i, line in enumerate(rawSet_3np):\n",
    "    rawSet_3np_loop_bs.append(np.insert(rawSet_3np_loop[i], 0, 1, axis=0))\n",
    "       \n",
    "rawSet_3np_loop_bias = np.array(rawSet_3np_loop_bs)\n",
    "        #shuffle\n",
    "np.random.shuffle(rawSet_3np_loop_bias)\n",
    "\n",
    "        # get test and train matrices\n",
    "testMat_3 = rawSet_3np_loop_bias[:int(pf_o*n_lp)] \n",
    "trainMat_3 = rawSet_3np_loop_bias[int(pf_o*n_lp):]\n",
    "        \n",
    "        \n",
    "trainX_3 = []\n",
    "trainY_3 = []\n",
    "for line in trainMat_3:\n",
    "    trainX_3.append(line[:-1])\n",
    "    trainY_3.append(line[-1])\n",
    "\n",
    "testX_3 = []\n",
    "testY_3 = []\n",
    "for line in testMat_3:\n",
    "    testX_3.append(line[:-1])\n",
    "    testY_3.append(line[-1])\n",
    "        \n",
    "        \n",
    "# train\n",
    "cur_wts = myLinRidgeReg(trainX_3, trainY_3, l_o)\n",
    "preds = myLinRidgeRegVal(testX_3, cur_wts)\n",
    "\n",
    "plt.plot(preds, testY_3, 'b+')\n",
    "plt.xlabel(\"Predicted Values\")\n",
    "plt.ylabel(\"Actual Values\")\n",
    "plt.show()"
   ]
  },
  {
   "cell_type": "markdown",
   "metadata": {},
   "source": [
    "## Observations\n",
    "\n",
    "* In this plot, most of the points like close to the 45-degree line\n",
    "* The value of MSE is higher for close to 0 values of λ\n",
    "* MSE rapidly decreases even on small changes to λ near λ = 0.\n",
    "* After λ = 0.1, large changes to λ only cause small changes in the MSE.\n",
    "* Smaller partition fraction values generally result in lower value of Minimum MSE. "
   ]
  },
  {
   "cell_type": "markdown",
   "metadata": {},
   "source": [
    "# Q4\n",
    "** NOTE : The different methods use a combination of different attributes for training the model. The input matrices are generating using functions xMat&lt;num&gt; defined below**\n",
    "\n",
    "* Most of these models use only a limited ~(1/5.5th) data for training due to limited memory."
   ]
  },
  {
   "cell_type": "code",
   "execution_count": 1,
   "metadata": {},
   "outputs": [],
   "source": [
    "# SETTUNG UP\n",
    "# Free some memory\n",
    "#del trainX_3\n",
    "#del trainY_3\n"
   ]
  },
  {
   "cell_type": "code",
   "execution_count": 2,
   "metadata": {},
   "outputs": [],
   "source": [
    "# Only read some of the rows (Can't process all)\n",
    "import numpy as np\n",
    "import pandas as pd\n",
    "from sklearn.linear_model import LinearRegression"
   ]
  },
  {
   "cell_type": "code",
   "execution_count": 3,
   "metadata": {},
   "outputs": [],
   "source": [
    "train_df = pd.read_csv('train.csv', nrows=10000000)"
   ]
  },
  {
   "cell_type": "code",
   "execution_count": 4,
   "metadata": {},
   "outputs": [],
   "source": [
    "# Add new features to this dataframe \n",
    "# Sort of like distance travelled.\n",
    "# Fare amount (intuitively) should ideally highly depend on this.\n",
    "def add_travel_vector_features(df):\n",
    "    df['abs_diff_longitude'] = (df.dropoff_longitude - df.pickup_longitude).abs()\n",
    "    df['abs_diff_latitude'] = (df.dropoff_latitude - df.pickup_latitude).abs()\n",
    "\n",
    "# Drop null values\n",
    "train_df = train_df.dropna(how = 'any', axis = 'rows')"
   ]
  },
  {
   "cell_type": "code",
   "execution_count": 5,
   "metadata": {},
   "outputs": [
    {
     "data": {
      "text/plain": [
       "key                    object\n",
       "fare_amount           float64\n",
       "pickup_datetime        object\n",
       "pickup_longitude      float64\n",
       "pickup_latitude       float64\n",
       "dropoff_longitude     float64\n",
       "dropoff_latitude      float64\n",
       "passenger_count         int64\n",
       "abs_diff_longitude    float64\n",
       "abs_diff_latitude     float64\n",
       "dtype: object"
      ]
     },
     "execution_count": 5,
     "metadata": {},
     "output_type": "execute_result"
    }
   ],
   "source": [
    "# Add these attribs\n",
    "add_travel_vector_features(train_df)\n",
    "\n",
    "# Info about the data (first few points).\n",
    "plot = train_df.iloc[:3000].plot.scatter('abs_diff_longitude', 'abs_diff_latitude')\n",
    "plot #To look for outliers.\n",
    "plot = train_df.iloc[:3000].plot.scatter('pickup_longitude', 'dropoff_longitude')\n",
    "plot\n",
    "train_df.dtypes"
   ]
  },
  {
   "cell_type": "markdown",
   "metadata": {},
   "source": [
    "### Input Matrix (X matrix) Generating functions"
   ]
  },
  {
   "cell_type": "code",
   "execution_count": 6,
   "metadata": {},
   "outputs": [],
   "source": [
    "# also add the bias weight here\n",
    "def xMat(train_df):\n",
    "    return np.column_stack(( train_df.pickup_longitude, train_df.pickup_latitude,\n",
    "                           train_df.dropoff_latitude, train_df.dropoff_longitude, train_df.abs_diff_latitude\n",
    "                           ,train_df.abs_diff_longitude, train_df.passenger_count))\n",
    "\n",
    "def xMat2(train_df):\n",
    "    return np.column_stack(( train_df.pickup_longitude, train_df.pickup_latitude,\n",
    "                           train_df.dropoff_latitude, train_df.dropoff_longitude \n",
    "                           , train_df.passenger_count, np.ones(len(train_df))))\n",
    "    \n",
    "def xMat3(train_df):\n",
    "    return np.column_stack((train_df.abs_diff_latitude\n",
    "                           ,train_df.abs_diff_longitude) )\n",
    "\n",
    "def xMat4(train_df):\n",
    "    return np.column_stack(( train_df.pickup_longitude, train_df.pickup_latitude,\n",
    "                           train_df.dropoff_latitude, train_df.dropoff_longitude, train_df.abs_diff_latitude\n",
    "                           ,train_df.abs_diff_longitude))"
   ]
  },
  {
   "cell_type": "markdown",
   "metadata": {},
   "source": [
    "### Using some of the original attributes, and linear regression."
   ]
  },
  {
   "cell_type": "code",
   "execution_count": 7,
   "metadata": {},
   "outputs": [],
   "source": [
    "# Predict using only the original Attributes\n",
    "trainX_4 = xMat2(train_df)\n",
    "trainY_4 = np.array(train_df['fare_amount'])"
   ]
  },
  {
   "cell_type": "code",
   "execution_count": 8,
   "metadata": {},
   "outputs": [],
   "source": [
    "# Now load test data\n",
    "test_df = pd.read_csv('test.csv')\n",
    "add_travel_vector_features(test_df)"
   ]
  },
  {
   "cell_type": "code",
   "execution_count": 13,
   "metadata": {},
   "outputs": [],
   "source": [
    "testX_4 = xMat2(test_df)\n"
   ]
  },
  {
   "cell_type": "code",
   "execution_count": 62,
   "metadata": {},
   "outputs": [],
   "source": [
    "# Predict using various models: \n",
    "# Split into training and validation sets.\n",
    "from sklearn.model_selection import train_test_split\n",
    "tX, vX, tY, vY = train_test_split(trainX_4, trainY_4, test_size=0.1)\n",
    "\n"
   ]
  },
  {
   "cell_type": "code",
   "execution_count": 66,
   "metadata": {},
   "outputs": [
    {
     "name": "stdout",
     "output_type": "stream",
     "text": [
      "for cv purpose 0.0002763241946479589\n"
     ]
    }
   ],
   "source": [
    "# Using Linear Regression\n",
    "from sklearn.linear_model import LinearRegression\n",
    "reg = LinearRegression(fit_intercept=False).fit(tX, tY)\n",
    "\n",
    "print(\"for cv purpose\", reg.score(vX, vY))\n",
    "\n",
    "\n",
    "testY_4 = reg.predict(testX_4)\n",
    "\n",
    "# Write the predictions to a CSV file \n",
    "submission = pd.DataFrame(\n",
    "    {'key': test_df.key, 'fare_amount': testY_4},\n",
    "    columns = ['key', 'fare_amount'])\n",
    "submission.to_csv('submission.csv', index = False)\n",
    "\n"
   ]
  },
  {
   "cell_type": "markdown",
   "metadata": {},
   "source": [
    "This gives a very (bad) low score of 9.40 (MSE is 9.40)\n"
   ]
  },
  {
   "cell_type": "markdown",
   "metadata": {},
   "source": [
    "Checking the weights of various attributes:"
   ]
  },
  {
   "cell_type": "code",
   "execution_count": 61,
   "metadata": {},
   "outputs": [
    {
     "data": {
      "text/plain": [
       "array([ 0.00268801, -0.00139613, -0.00227257,  0.00383514,  0.09609533,\n",
       "        0.        ])"
      ]
     },
     "execution_count": 61,
     "metadata": {},
     "output_type": "execute_result"
    }
   ],
   "source": [
    "reg.coef_"
   ]
  },
  {
   "cell_type": "markdown",
   "metadata": {},
   "source": [
    "### Using some of the original attributes, and ridgre regression"
   ]
  },
  {
   "cell_type": "code",
   "execution_count": 67,
   "metadata": {},
   "outputs": [],
   "source": [
    "# Predict using various models: \n",
    "# Split into training and validation sets.\n",
    "from sklearn.model_selection import train_test_split\n",
    "tX, vX, tY, vY = train_test_split(trainX_4, trainY_4, test_size=0.1)\n",
    "\n"
   ]
  },
  {
   "cell_type": "code",
   "execution_count": 68,
   "metadata": {},
   "outputs": [
    {
     "name": "stdout",
     "output_type": "stream",
     "text": [
      "CV score:  0.00028497380456338206\n"
     ]
    }
   ],
   "source": [
    "from sklearn.linear_model import Ridge\n",
    "\n",
    "clf = Ridge(alpha=1, fit_intercept=False)\n",
    "clf.fit(tX, tY)\n",
    "\n",
    "print(\"CV score: \", clf.score(vX, vY))\n",
    "\n",
    "testY_4 = clf.predict(testX_4)\n",
    "\n",
    "# Write the predictions to a CSV file \n",
    "submission = pd.DataFrame(\n",
    "    {'key': test_df.key, 'fare_amount': testY_4},\n",
    "    columns = ['key', 'fare_amount'])\n",
    "submission.to_csv('submission.csv', index = False)"
   ]
  },
  {
   "cell_type": "markdown",
   "metadata": {},
   "source": [
    "This also gets a MSE of 9.40"
   ]
  },
  {
   "cell_type": "markdown",
   "metadata": {},
   "source": [
    "### Using calculated parameters Ridgre Regression\n",
    "\n",
    "Also, pruning some outliers !"
   ]
  },
  {
   "cell_type": "code",
   "execution_count": 34,
   "metadata": {},
   "outputs": [],
   "source": [
    "# From the plot, most of the data points lie inside this region. \n",
    "# Points having large values in these attributes dont make sense\n",
    "train_df = train_df[(train_df.abs_diff_longitude < 5.0) & (train_df.abs_diff_latitude < 5.0)]\n",
    "\n",
    "trainX_4 = xMat3(train_df)\n",
    "trainY_4 = np.array(train_df['fare_amount'])\n",
    "testX_4 = xMat3(test_df)\n",
    "\n"
   ]
  },
  {
   "cell_type": "code",
   "execution_count": 40,
   "metadata": {},
   "outputs": [
    {
     "name": "stdout",
     "output_type": "stream",
     "text": [
      "CV score:  0.5489861257895972\n"
     ]
    }
   ],
   "source": [
    "from sklearn.model_selection import train_test_split\n",
    "from sklearn.linear_model import Ridge\n",
    "tX, vX, tY, vY = train_test_split(trainX_4, trainY_4, test_size=0.1)\n",
    "\n",
    "clf = Ridge(alpha=1 ,fit_intercept=True)\n",
    "clf.fit(tX, tY)\n",
    "\n",
    "print(\"CV score: \", clf.score(vX, vY))"
   ]
  },
  {
   "cell_type": "code",
   "execution_count": 41,
   "metadata": {},
   "outputs": [],
   "source": [
    "testY_4 = clf.predict(testX_4)\n",
    "\n",
    "# Write the predictions to a CSV file \n",
    "submission = pd.DataFrame(\n",
    "    {'key': test_df.key, 'fare_amount': testY_4},\n",
    "    columns = ['key', 'fare_amount'])\n",
    "submission.to_csv('submission.csv', index = False)"
   ]
  },
  {
   "cell_type": "markdown",
   "metadata": {},
   "source": [
    "This gave MSE of **5.74634**"
   ]
  },
  {
   "cell_type": "markdown",
   "metadata": {},
   "source": [
    "### Using a mix of calculated/existing attributes\n",
    "\n"
   ]
  },
  {
   "cell_type": "code",
   "execution_count": 44,
   "metadata": {},
   "outputs": [],
   "source": [
    "trainX_4 = xMat(train_df)\n",
    "trainY_4 = np.array(train_df['fare_amount'])\n",
    "testX_4 = xMat(test_df)\n"
   ]
  },
  {
   "cell_type": "code",
   "execution_count": 73,
   "metadata": {},
   "outputs": [
    {
     "name": "stdout",
     "output_type": "stream",
     "text": [
      "CV score:  0.5301436049333956\n"
     ]
    },
    {
     "data": {
      "text/plain": [
       "array([ 6.59354187e+00, -1.73997407e+00,  1.71338107e+00, -6.54345980e+00,\n",
       "        7.90909113e+01,  1.47034405e+02,  5.33429431e-02])"
      ]
     },
     "execution_count": 73,
     "metadata": {},
     "output_type": "execute_result"
    }
   ],
   "source": [
    "from sklearn.model_selection import train_test_split\n",
    "from sklearn.linear_model import Ridge\n",
    "tX, vX, tY, vY = train_test_split(trainX_4, trainY_4, test_size=0.1)\n",
    "\n",
    "clf = Ridge(alpha=0.7 ,fit_intercept=True)\n",
    "clf.fit(tX, tY)\n",
    "\n",
    "print(\"CV score: \", clf.score(vX, vY))\n",
    "\n",
    "clf.coef_"
   ]
  },
  {
   "cell_type": "code",
   "execution_count": 59,
   "metadata": {},
   "outputs": [],
   "source": [
    "testY_4 = clf.predict(testX_4)\n",
    "\n",
    "# Write the predictions to a CSV file \n",
    "submission = pd.DataFrame(\n",
    "    {'key': test_df.key, 'fare_amount': testY_4},\n",
    "    columns = ['key', 'fare_amount'])\n",
    "submission.to_csv('submission.csv', index = False)"
   ]
  },
  {
   "cell_type": "markdown",
   "metadata": {},
   "source": [
    "MSE: **5.76**"
   ]
  },
  {
   "cell_type": "markdown",
   "metadata": {},
   "source": [
    "### Yet another set of columns, removing the least weighed column from the previous solution"
   ]
  },
  {
   "cell_type": "code",
   "execution_count": 75,
   "metadata": {},
   "outputs": [],
   "source": [
    "trainX_4 = xMat4(train_df)\n",
    "trainY_4 = np.array(train_df['fare_amount'])\n",
    "testX_4 = xMat4(test_df)"
   ]
  },
  {
   "cell_type": "code",
   "execution_count": 82,
   "metadata": {},
   "outputs": [
    {
     "name": "stdout",
     "output_type": "stream",
     "text": [
      "CV score:  0.5336121640869755\n"
     ]
    },
    {
     "data": {
      "text/plain": [
       "array([  6.39706261,  -3.70453652,   3.68124395,  -6.34497357,\n",
       "        77.40090108, 147.78409197])"
      ]
     },
     "execution_count": 82,
     "metadata": {},
     "output_type": "execute_result"
    }
   ],
   "source": [
    "from sklearn.model_selection import train_test_split\n",
    "from sklearn.linear_model import Ridge\n",
    "tX, vX, tY, vY = train_test_split(trainX_4, trainY_4, test_size=0.1)\n",
    "\n",
    "clf = Ridge(alpha=0.7 ,fit_intercept=True)\n",
    "clf.fit(tX, tY)\n",
    "\n",
    "print(\"CV score: \", clf.score(vX, vY))\n",
    "\n",
    "clf.coef_"
   ]
  },
  {
   "cell_type": "code",
   "execution_count": 83,
   "metadata": {},
   "outputs": [],
   "source": [
    "testY_4 = clf.predict(testX_4)\n",
    "\n",
    "# Write the predictions to a CSV file \n",
    "submission = pd.DataFrame(\n",
    "    {'key': test_df.key, 'fare_amount': testY_4},\n",
    "    columns = ['key', 'fare_amount'])\n",
    "submission.to_csv('submission.csv', index = False)"
   ]
  },
  {
   "cell_type": "markdown",
   "metadata": {},
   "source": [
    "MSE: ** 5.75676 **"
   ]
  },
  {
   "cell_type": "markdown",
   "metadata": {},
   "source": [
    "### Using Random Forest Regression"
   ]
  },
  {
   "cell_type": "code",
   "execution_count": 10,
   "metadata": {},
   "outputs": [],
   "source": [
    "trainX_4 = xMat(train_df)\n",
    "trainY_4 = np.array(train_df['fare_amount'])\n",
    "testX_4 = xMat(test_df)\n"
   ]
  },
  {
   "cell_type": "code",
   "execution_count": 11,
   "metadata": {},
   "outputs": [
    {
     "name": "stdout",
     "output_type": "stream",
     "text": [
      "CV score:  0.5982506213453175\n"
     ]
    }
   ],
   "source": [
    "from sklearn.ensemble import RandomForestRegressor\n",
    "from sklearn.model_selection import train_test_split\n",
    "\n",
    "tX, vX, tY, vY = train_test_split(trainX_4, trainY_4, test_size=0.1)\n",
    "\n",
    "clf = RandomForestRegressor(max_depth=2, random_state=0, n_estimators=100)\n",
    "clf.fit(tX, tY)\n",
    "\n",
    "print(\"CV score: \", clf.score(vX, vY))\n"
   ]
  },
  {
   "cell_type": "code",
   "execution_count": 13,
   "metadata": {},
   "outputs": [],
   "source": [
    "testY_4 = clf.predict(testX_4)\n",
    "\n",
    "# Write the predictions to a CSV file \n",
    "submission = pd.DataFrame(\n",
    "    {'key': test_df.key, 'fare_amount': testY_4},\n",
    "    columns = ['key', 'fare_amount'])\n",
    "submission.to_csv('submission.csv', index = False)"
   ]
  },
  {
   "cell_type": "markdown",
   "metadata": {},
   "source": [
    "MSE: **5.24570\n",
    "**"
   ]
  },
  {
   "cell_type": "markdown",
   "metadata": {},
   "source": [
    "### Random Forests Regresser (2) - Optmized parameters, not using passenger count attrib (low weight)"
   ]
  },
  {
   "cell_type": "code",
   "execution_count": 17,
   "metadata": {},
   "outputs": [],
   "source": [
    "trainX_4 = xMat3(train_df)\n",
    "trainY_4 = np.array(train_df['fare_amount'])\n",
    "testX_4 = xMat3(test_df)"
   ]
  },
  {
   "cell_type": "code",
   "execution_count": 18,
   "metadata": {},
   "outputs": [
    {
     "name": "stdout",
     "output_type": "stream",
     "text": [
      "CV score:  0.7412363171163237\n"
     ]
    }
   ],
   "source": [
    "from sklearn.ensemble import RandomForestRegressor\n",
    "from sklearn.model_selection import train_test_split\n",
    "\n",
    "tX, vX, tY, vY = train_test_split(trainX_4, trainY_4, test_size=0.1)\n",
    "\n",
    "clf = RandomForestRegressor(max_depth=22, n_estimators=40, max_features=0.5)\n",
    "clf.fit(tX, tY)\n",
    "\n",
    "print(\"CV score: \", clf.score(vX, vY))\n"
   ]
  },
  {
   "cell_type": "code",
   "execution_count": 20,
   "metadata": {},
   "outputs": [],
   "source": [
    "testY_4 = clf.predict(testX_4)\n",
    "\n",
    "# Write the predictions to a CSV file \n",
    "submission = pd.DataFrame(\n",
    "    {'key': test_df.key, 'fare_amount': testY_4},\n",
    "    columns = ['key', 'fare_amount'])\n",
    "submission.to_csv('submission.csv', index = False)"
   ]
  },
  {
   "cell_type": "markdown",
   "metadata": {},
   "source": [
    "MSE: **4.00283**"
   ]
  },
  {
   "cell_type": "markdown",
   "metadata": {},
   "source": [
    "### Report\n",
    "\n",
    "** Best 2 scores ** : MSE : 4.00 and 5.24\n",
    "\n",
    "Both were achieved using Random Forest Regressors. Using all the attributes (except time) and the calculated attributes, and higher number of low depth trees resulted in an MSE of 5.24\n",
    "\n",
    "Optimization of this, and using fewer attributes (differences in lat/long) to save memory, resulted in a good cross validation score when number of trees was 40, and max-depth was 22. That model gave an MSE  of 4.00\n",
    "\n",
    "These methods gave better results, because we are using a small part of the whole training data. Random forests reduce the bias of the model, and hence resulted in a better score. The models without any feature engineering (first 2) gave a bad score, because the fare actually depends more on the distance travelled.\n",
    "\n",
    "Adding easy to calculate features - difference in latitude and longitude improved results, improved the MSE for Ridge Regression models.\n",
    "\n",
    "The top two models also remove the outlier points - whose difference in lat/long (and thus also individual values) is high, and are most likely erroneous points. This results in a better model. "
   ]
  },
  {
   "cell_type": "code",
   "execution_count": null,
   "metadata": {},
   "outputs": [],
   "source": []
  }
 ],
 "metadata": {
  "kernelspec": {
   "display_name": "Python 3",
   "language": "python",
   "name": "python3"
  },
  "language_info": {
   "codemirror_mode": {
    "name": "ipython",
    "version": 3
   },
   "file_extension": ".py",
   "mimetype": "text/x-python",
   "name": "python",
   "nbconvert_exporter": "python",
   "pygments_lexer": "ipython3",
   "version": "3.6.7"
  },
  "toc": {
   "base_numbering": 1,
   "nav_menu": {},
   "number_sections": true,
   "sideBar": true,
   "skip_h1_title": false,
   "title_cell": "Table of Contents",
   "title_sidebar": "Contents",
   "toc_cell": false,
   "toc_position": {
    "height": "calc(100% - 180px)",
    "left": "10px",
    "top": "150px",
    "width": "384px"
   },
   "toc_section_display": true,
   "toc_window_display": true
  }
 },
 "nbformat": 4,
 "nbformat_minor": 2
}
