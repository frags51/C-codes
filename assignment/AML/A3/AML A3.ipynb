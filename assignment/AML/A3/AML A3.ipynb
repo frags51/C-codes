{
 "cells": [
  {
   "cell_type": "markdown",
   "metadata": {},
   "source": [
    "# AML Assignment 3\n",
    "## Supreet Singh CS16BTECH11038"
   ]
  },
  {
   "cell_type": "markdown",
   "metadata": {},
   "source": [
    "# Q3"
   ]
  },
  {
   "cell_type": "markdown",
   "metadata": {},
   "source": [
    "## (A)\n"
   ]
  },
  {
   "cell_type": "code",
   "execution_count": 4,
   "metadata": {},
   "outputs": [],
   "source": [
    "# imports\n",
    "import numpy as np\n",
    "import csv"
   ]
  },
  {
   "cell_type": "code",
   "execution_count": 50,
   "metadata": {},
   "outputs": [],
   "source": [
    "#load data\n",
    "#f= open(\"linregdata\", \"r\")\n",
    "#rawSet_3 = np.loadtxt(f)\n",
    "with open(\"linregdata\") as f:\n",
    "    next(f, None)\n",
    "    data = [tuple(line) for line in csv.reader(f, delimiter=\",\")]\n",
    "    #print (\"Number of records: %d\" % (len(data)))"
   ]
  },
  {
   "cell_type": "code",
   "execution_count": 51,
   "metadata": {},
   "outputs": [
    {
     "name": "stdout",
     "output_type": "stream",
     "text": [
      "('M', '0.35', '0.265', '0.09', '0.2255', '0.0995', '0.0485', '0.07', '7')\n"
     ]
    }
   ],
   "source": [
    "print(data[0])"
   ]
  },
  {
   "cell_type": "code",
   "execution_count": 52,
   "metadata": {},
   "outputs": [],
   "source": [
    "# Converting M,F,I to numbers!\n",
    "rawSet_3 = []\n",
    "i_3 = 0\n",
    "for line in data:\n",
    "    rawSet_3.append([])\n",
    "    if line[0]=='F':\n",
    "        rawSet_3[i_3].append(1)\n",
    "        rawSet_3[i_3].append(0)\n",
    "        rawSet_3[i_3].append(0)\n",
    "        #print(rawSet_3[i_3],i_3)\n",
    "    elif line[0]=='I':\n",
    "        rawSet_3[i_3].append(0)\n",
    "        rawSet_3[i_3].append(1)\n",
    "        rawSet_3[i_3].append(0)\n",
    "    else:\n",
    "        rawSet_3[i_3].append(0)\n",
    "        rawSet_3[i_3].append(0)\n",
    "        rawSet_3[i_3].append(1)\n",
    "    for x in line[1:]:\n",
    "        rawSet_3[i_3].append(float(x))\n",
    "    i_3+=1\n",
    "    #print(rawSet_3[i_3-1])"
   ]
  },
  {
   "cell_type": "code",
   "execution_count": 53,
   "metadata": {},
   "outputs": [
    {
     "name": "stdout",
     "output_type": "stream",
     "text": [
      "[0, 0, 1, 0.35, 0.265, 0.09, 0.2255, 0.0995, 0.0485, 0.07, 7.0]\n"
     ]
    }
   ],
   "source": [
    "print(rawSet_3[0])"
   ]
  },
  {
   "cell_type": "markdown",
   "metadata": {},
   "source": [
    "## (B)"
   ]
  },
  {
   "cell_type": "code",
   "execution_count": 54,
   "metadata": {},
   "outputs": [
    {
     "name": "stdout",
     "output_type": "stream",
     "text": [
      "[0.31297893 0.32136015 0.36566092 0.52400862 0.40789152 0.13952706\n",
      " 0.82881753 0.35939978 0.18061267 0.23885213 9.93247126]\n",
      "[0.46370585 0.46699872 0.481615   0.12008817 0.09923765 0.04182138\n",
      " 0.49036483 0.22195313 0.10960733 0.13919588 3.22321548]\n"
     ]
    }
   ],
   "source": [
    "# get means, stds\n",
    "rawSet_3np = np.array(rawSet_3)\n",
    "means = rawSet_3np.mean(axis=0)\n",
    "print(means)\n",
    "stds = rawSet_3np.std(axis=0)\n",
    "print(stds)"
   ]
  },
  {
   "cell_type": "code",
   "execution_count": 55,
   "metadata": {},
   "outputs": [],
   "source": [
    "# standardise:\n",
    "for line in rawSet_3np:\n",
    "    for i, x in enumerate(line[:-1]):\n",
    "        line[i] = (line[i]-means[i])/stds[i]"
   ]
  },
  {
   "cell_type": "code",
   "execution_count": 61,
   "metadata": {},
   "outputs": [
    {
     "name": "stdout",
     "output_type": "stream",
     "text": [
      "[[-0.67495143 -0.68813926  1.31710822 ... -1.20532696 -1.21305408\n",
      "   7.        ]\n",
      " [ 1.4815881  -0.68813926 -0.75923905 ... -0.35684354 -0.20727719\n",
      "   9.        ]\n",
      " [-0.67495143 -0.68813926  1.31710822 ... -0.60773918 -0.60240383\n",
      "  10.        ]\n",
      " ...\n",
      " [-0.67495143 -0.68813926  1.31710822 ...  0.97518418  0.49676663\n",
      "   9.        ]\n",
      " [ 1.4815881  -0.68813926 -0.75923905 ...  0.73341202  0.41055718\n",
      "  10.        ]\n",
      " [-0.67495143 -0.68813926  1.31710822 ...  1.78717368  1.84019719\n",
      "  12.        ]]\n"
     ]
    }
   ],
   "source": [
    "print(rawSet_3np)"
   ]
  },
  {
   "cell_type": "code",
   "execution_count": 65,
   "metadata": {},
   "outputs": [
    {
     "name": "stdout",
     "output_type": "stream",
     "text": [
      "[1.         1.         1.         1.         1.         1.\n",
      " 1.         1.         1.         1.         3.22321548]\n"
     ]
    }
   ],
   "source": [
    "print(rawSet_3np.std(axis=0))\n"
   ]
  },
  {
   "cell_type": "markdown",
   "metadata": {},
   "source": [
    "## (C)"
   ]
  },
  {
   "cell_type": "code",
   "execution_count": 92,
   "metadata": {},
   "outputs": [],
   "source": [
    "def myLinRidgeReg(Xd, Yd, λ): #returns regression weights\n",
    "    X = np.array(Xd)\n",
    "    Y = np.array(Yd)\n",
    "    a1 = np.matmul(X.T, X)\n",
    "    #print(a1.shape)\n",
    "    a2 = np.identity(a1.shape[0])\n",
    "    a2 *= λ\n",
    "    a3 = np.linalg.inv(np.add(a2, a1))\n",
    "    #print(type(a3))\n",
    "    #print(a3.shape)\n",
    "    #print(X.T.shape)\n",
    "    a4 = np.matmul(a3, X.T)\n",
    "    a5 = np.matmul(a4, Y)\n",
    "    return a5\n",
    "    "
   ]
  },
  {
   "cell_type": "code",
   "execution_count": 93,
   "metadata": {},
   "outputs": [
    {
     "name": "stdout",
     "output_type": "stream",
     "text": [
      "[ 0.11636481 -0.26703692  0.14689504 -0.04786297  1.08900829  0.45330063\n",
      "  4.36666728 -4.37576905 -1.15003066  1.22863106]\n"
     ]
    }
   ],
   "source": [
    "X_3 = []\n",
    "Y_3 = []\n",
    "for line in rawSet_3np:\n",
    "    X_3.append(line[:-1])\n",
    "    Y_3.append(line[-1])\n",
    "\n",
    "a_3 = myLinRidgeReg(X_3,Y_3, 0.2)\n",
    "print(a_3)"
   ]
  },
  {
   "cell_type": "code",
   "execution_count": null,
   "metadata": {},
   "outputs": [],
   "source": []
  }
 ],
 "metadata": {
  "kernelspec": {
   "display_name": "Python 3",
   "language": "python",
   "name": "python3"
  },
  "language_info": {
   "codemirror_mode": {
    "name": "ipython",
    "version": 3
   },
   "file_extension": ".py",
   "mimetype": "text/x-python",
   "name": "python",
   "nbconvert_exporter": "python",
   "pygments_lexer": "ipython3",
   "version": "3.6.7"
  },
  "toc": {
   "base_numbering": 1,
   "nav_menu": {},
   "number_sections": true,
   "sideBar": true,
   "skip_h1_title": false,
   "title_cell": "Table of Contents",
   "title_sidebar": "Contents",
   "toc_cell": false,
   "toc_position": {},
   "toc_section_display": true,
   "toc_window_display": true
  }
 },
 "nbformat": 4,
 "nbformat_minor": 2
}
