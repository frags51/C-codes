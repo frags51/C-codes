{
 "cells": [
  {
   "cell_type": "markdown",
   "metadata": {},
   "source": [
    "# AML Assignment 4\n"
   ]
  },
  {
   "cell_type": "markdown",
   "metadata": {},
   "source": [
    "# Q3"
   ]
  },
  {
   "cell_type": "markdown",
   "metadata": {},
   "source": [
    "## (A)"
   ]
  },
  {
   "cell_type": "code",
   "execution_count": 151,
   "metadata": {},
   "outputs": [],
   "source": [
    "import numpy as np\n",
    "from sklearn.cluster import KMeans\n",
    "import csv\n",
    "import matplotlib.pyplot as plt\n",
    "from mpl_toolkits.mplot3d import Axes3D"
   ]
  },
  {
   "cell_type": "code",
   "execution_count": 152,
   "metadata": {},
   "outputs": [],
   "source": [
    "#load data\n",
    "fi = open('dataset1.txt')\n",
    "data = np.loadtxt(fi)"
   ]
  },
  {
   "cell_type": "code",
   "execution_count": 153,
   "metadata": {},
   "outputs": [
    {
     "data": {
      "image/png": "[encoded data removed]",
      "text/plain": [
       "<Figure size 432x288 with 1 Axes>"
      ]
     },
     "metadata": {
      "needs_background": "light"
     },
     "output_type": "display_data"
    }
   ],
   "source": [
    "plt.scatter([i[0] for i in data], [i[1] for i in data])\n",
    "plt.xlabel('X')\n",
    "plt.ylabel('Y')\n",
    "plt.title('Plot of points')\n",
    "plt.show()"
   ]
  },
  {
   "cell_type": "markdown",
   "metadata": {},
   "source": [
    "It appears that there are 2 clusters."
   ]
  },
  {
   "cell_type": "code",
   "execution_count": 154,
   "metadata": {},
   "outputs": [],
   "source": [
    "kmeans = KMeans(n_clusters=2, random_state=0).fit(data)"
   ]
  },
  {
   "cell_type": "code",
   "execution_count": 155,
   "metadata": {},
   "outputs": [],
   "source": [
    "#kmeans.labels_"
   ]
  },
  {
   "cell_type": "code",
   "execution_count": 156,
   "metadata": {},
   "outputs": [],
   "source": [
    "def splitIdx(lbls, num): # returns list of list of indices for each label.\n",
    "    ret = []\n",
    "    for i in range(num):\n",
    "        l = []\n",
    "        j = 0\n",
    "        while j<len(lbls):\n",
    "            if lbls[j] == i:\n",
    "                l.append(j)\n",
    "            j+=1\n",
    "        ret.append(l)\n",
    "    \n",
    "    return ret"
   ]
  },
  {
   "cell_type": "code",
   "execution_count": 157,
   "metadata": {},
   "outputs": [],
   "source": [
    "lIdx = splitIdx(kmeans.labels_, 2)\n",
    "#print()"
   ]
  },
  {
   "cell_type": "code",
   "execution_count": 158,
   "metadata": {},
   "outputs": [
    {
     "data": {
      "image/png": "[encoded data removed]",
      "text/plain": [
       "<Figure size 432x288 with 1 Axes>"
      ]
     },
     "metadata": {
      "needs_background": "light"
     },
     "output_type": "display_data"
    }
   ],
   "source": [
    "plt.close()\n",
    "plt.plot(data[lIdx[0]][:,0], data[lIdx[0]][:,1], 'bo')\n",
    "plt.plot(data[lIdx[1]][:,0], data[lIdx[1]][:,1], 'ro')\n",
    "\n",
    "plt.show()"
   ]
  },
  {
   "cell_type": "markdown",
   "metadata": {},
   "source": [
    "This is the clustering according to KMeans algorithm!"
   ]
  },
  {
   "cell_type": "markdown",
   "metadata": {},
   "source": [
    "## (B) DBSCAN"
   ]
  },
  {
   "cell_type": "code",
   "execution_count": 159,
   "metadata": {},
   "outputs": [],
   "source": [
    "__id = 0\n",
    "__labels = [UNCLASSIFIED]\n",
    "UNCLASSIFIED = -1\n",
    "NOISE = -2\n",
    "\n",
    "def nextId():\n",
    "    global __id\n",
    "    __id+=1\n",
    "    return __id-1"
   ]
  },
  {
   "cell_type": "code",
   "execution_count": 160,
   "metadata": {},
   "outputs": [],
   "source": [
    "#[1,2,3]+[2,3,4]"
   ]
  },
  {
   "cell_type": "code",
   "execution_count": 161,
   "metadata": {},
   "outputs": [],
   "source": [
    "def regQuery(X, PointIdx, eps): # Returns list of indices of close neighbors\n",
    "    ret = []\n",
    "    for i in range(len(X)):\n",
    "        if np.linalg.norm(np.subtract(X[PointIdx], X[i]),ord=2) < eps:\n",
    "            ret.append(i)\n",
    "    \n",
    "    return ret"
   ]
  },
  {
   "cell_type": "code",
   "execution_count": 162,
   "metadata": {},
   "outputs": [],
   "source": [
    "#Iterative, not recursive function\n",
    "def expandCluster(X, PointIdx, ClId, eps, minpts):\n",
    "    global __labels\n",
    "    seeds = regQuery(X, PointIdx, eps)\n",
    "    if len(seeds)<minpts:\n",
    "        __labels[PointIdx] = NOISE\n",
    "        return False\n",
    "    # Else\n",
    "    \n",
    "    i = 0\n",
    "    while i<len(seeds):\n",
    "        nxtP = seeds[i]\n",
    "        # If it was NOISE, then it has < minpts neighbors!\n",
    "        if __labels[nxtP]==NOISE:\n",
    "            __labels[nxtP] = ClId\n",
    "        \n",
    "        # expand CLuster fromt this point (ONLY IF UNCLASSFIED POINT)!\n",
    "        elif __labels[nxtP]==UNCLASSIFIED:\n",
    "            __labels[nxtP] = ClId\n",
    "            \n",
    "            newSeeds = regQuery(X, nxtP, eps)\n",
    "            if(len(newSeeds)>minpts):\n",
    "                # recursively expand cluster!\n",
    "                seeds = seeds + newSeeds\n",
    "        \n",
    "        i += 1\n",
    "    \n",
    "    return True"
   ]
  },
  {
   "cell_type": "code",
   "execution_count": 163,
   "metadata": {},
   "outputs": [],
   "source": [
    "def dbscanFit(X, eps, minpts):  # Returns labels and number of clusters!\n",
    "    global __id\n",
    "    global __labels\n",
    "    __id = 0 \n",
    "    __labels = [UNCLASSIFIED]*len(X)\n",
    "    #print((__labels))\n",
    "    clusterId = nextId()\n",
    "    \n",
    "    for i in range(len(X)):\n",
    "        if(__labels[i]==UNCLASSIFIED):\n",
    "            if expandCluster(X, i, clusterId, eps, minpts):\n",
    "                clusterId = nextId()\n",
    "    \n",
    "    return __labels, __id-1"
   ]
  },
  {
   "cell_type": "code",
   "execution_count": 164,
   "metadata": {},
   "outputs": [],
   "source": [
    "lb, li = dbscanFit(data, 0.2, 4)"
   ]
  },
  {
   "cell_type": "markdown",
   "metadata": {},
   "source": [
    "Plotting the clusters according to DBSCAN:"
   ]
  },
  {
   "cell_type": "code",
   "execution_count": 165,
   "metadata": {},
   "outputs": [
    {
     "data": {
      "image/png": "[encoded data removed]",
      "text/plain": [
       "<Figure size 432x288 with 1 Axes>"
      ]
     },
     "metadata": {
      "needs_background": "light"
     },
     "output_type": "display_data"
    }
   ],
   "source": [
    "\n",
    "lIdx = splitIdx(lb, li)\n",
    "\n",
    "plt.close()\n",
    "plt.plot(data[lIdx[0]][:,0], data[lIdx[0]][:,1], 'bo')\n",
    "plt.plot(data[lIdx[1]][:,0], data[lIdx[1]][:,1], 'ro')\n",
    "\n",
    "plt.show()"
   ]
  },
  {
   "cell_type": "markdown",
   "metadata": {},
   "source": [
    "## (C)\n",
    "\n",
    "DBSCAN seems to more accurately find the clusters in this dataset compared to KMeans. \n",
    "This is because these clusters are such that they are reachable from their neighboring points from the same cluster and not from points from different clusters.  This helps the DBSCAN Algorithm.\n",
    "\n",
    "KMeans does not work this way, and it classifies nearby points based on distances from a centroid.  "
   ]
  },
  {
   "cell_type": "markdown",
   "metadata": {},
   "source": [
    "## (D)"
   ]
  },
  {
   "cell_type": "code",
   "execution_count": 167,
   "metadata": {},
   "outputs": [],
   "source": [
    "#load data\n",
    "fi = open('dataset2.txt')\n",
    "data = np.loadtxt(fi)"
   ]
  },
  {
   "cell_type": "code",
   "execution_count": 168,
   "metadata": {},
   "outputs": [
    {
     "data": {
      "image/png": "[encoded data removed]",
      "text/plain": [
       "<Figure size 432x288 with 1 Axes>"
      ]
     },
     "metadata": {
      "needs_background": "light"
     },
     "output_type": "display_data"
    }
   ],
   "source": [
    "plt.scatter([i[0] for i in data], [i[1] for i in data])\n",
    "plt.xlabel('X')\n",
    "plt.ylabel('Y')\n",
    "plt.title('Plot of points')\n",
    "plt.show()"
   ]
  },
  {
   "cell_type": "markdown",
   "metadata": {},
   "source": [
    "### Using KMeans"
   ]
  },
  {
   "cell_type": "code",
   "execution_count": 169,
   "metadata": {},
   "outputs": [],
   "source": [
    "kmeans = KMeans(n_clusters=3, random_state=0).fit(data)"
   ]
  },
  {
   "cell_type": "code",
   "execution_count": 170,
   "metadata": {},
   "outputs": [],
   "source": [
    "lIdx = splitIdx(kmeans.labels_, 3)"
   ]
  },
  {
   "cell_type": "code",
   "execution_count": 171,
   "metadata": {},
   "outputs": [
    {
     "data": {
      "image/png": "[encoded data removed]",
      "text/plain": [
       "<Figure size 432x288 with 1 Axes>"
      ]
     },
     "metadata": {
      "needs_background": "light"
     },
     "output_type": "display_data"
    }
   ],
   "source": [
    "plt.close()\n",
    "plt.plot(data[lIdx[0]][:,0], data[lIdx[0]][:,1], 'bo')\n",
    "plt.plot(data[lIdx[1]][:,0], data[lIdx[1]][:,1], 'ro')\n",
    "plt.plot(data[lIdx[2]][:,0], data[lIdx[2]][:,1], 'go')\n",
    "\n",
    "plt.show()"
   ]
  },
  {
   "cell_type": "markdown",
   "metadata": {},
   "source": [
    "### Using DBSCAN"
   ]
  },
  {
   "cell_type": "code",
   "execution_count": 176,
   "metadata": {},
   "outputs": [],
   "source": [
    "lb, li = dbscanFit(data, 4, 3)"
   ]
  },
  {
   "cell_type": "code",
   "execution_count": 177,
   "metadata": {},
   "outputs": [
    {
     "name": "stdout",
     "output_type": "stream",
     "text": [
      "[-2  0  1  2]\n"
     ]
    },
    {
     "data": {
      "image/png": "[encoded data removed]",
      "text/plain": [
       "<Figure size 432x288 with 1 Axes>"
      ]
     },
     "metadata": {
      "needs_background": "light"
     },
     "output_type": "display_data"
    }
   ],
   "source": [
    "#print(li)\n",
    "print(np.unique(__labels))\n",
    "\n",
    "\n",
    "lIdx = splitIdx(lb, li)\n",
    "\n",
    "plt.close()\n",
    "plt.plot(data[lIdx[0]][:,0], data[lIdx[0]][:,1], 'bo')\n",
    "plt.plot(data[lIdx[1]][:,0], data[lIdx[1]][:,1], 'ro')\n",
    "plt.plot(data[lIdx[2]][:,0], data[lIdx[2]][:,1], 'go')\n",
    "\n",
    "\n",
    "plt.show()"
   ]
  },
  {
   "cell_type": "markdown",
   "metadata": {},
   "source": [
    "After tuning the parameters of DBScan, it came up with the above three clusters.\n",
    "\n",
    "Kmeans also came up with similar clusters, but it used all the points\n",
    "\n",
    "DBSCAN ignored some outlier points as noise\n",
    "\n",
    "Conclusions:\n",
    "\n",
    "* DBSCAN works better for some distribution of points which do not have clear, distinguishing center points as in the case of data set 1.\n",
    "* DBSCAN can be tuned via the `eps` parameter to control how many clusters will be found. In K-Means, we have to directly specify the number of clusters which may not be easy to predict. \n",
    "* DBSCAN is more robust to noisy points.\n",
    "* K Means works well we the clusters have distinct centers ( away from each other) "
   ]
  },
  {
   "cell_type": "markdown",
   "metadata": {},
   "source": [
    "# Q4"
   ]
  },
  {
   "cell_type": "markdown",
   "metadata": {},
   "source": [
    "## (A) Reducing to two dimensions"
   ]
  },
  {
   "cell_type": "code",
   "execution_count": 181,
   "metadata": {},
   "outputs": [],
   "source": [
    "from sklearn import datasets\n",
    "from sklearn.decomposition import PCA"
   ]
  },
  {
   "cell_type": "code",
   "execution_count": 182,
   "metadata": {},
   "outputs": [],
   "source": [
    "iris = datasets.load_iris()"
   ]
  },
  {
   "cell_type": "code",
   "execution_count": 183,
   "metadata": {},
   "outputs": [],
   "source": [
    "X_red = PCA(n_components=2).fit_transform(iris.data)"
   ]
  },
  {
   "cell_type": "code",
   "execution_count": 187,
   "metadata": {},
   "outputs": [
    {
     "data": {
      "image/png": "[encoded data removed]",
      "text/plain": [
       "<Figure size 432x288 with 1 Axes>"
      ]
     },
     "metadata": {
      "needs_background": "light"
     },
     "output_type": "display_data"
    }
   ],
   "source": [
    "plt.clf()\n",
    "plt.scatter(X_red[:,0], X_red[:,1],cmap=plt.cm.Set1, edgecolor='k',c=iris.target)\n",
    "plt.show()"
   ]
  },
  {
   "cell_type": "code",
   "execution_count": null,
   "metadata": {},
   "outputs": [],
   "source": []
  }
 ],
 "metadata": {
  "kernelspec": {
   "display_name": "Python 3",
   "language": "python",
   "name": "python3"
  },
  "language_info": {
   "codemirror_mode": {
    "name": "ipython",
    "version": 3
   },
   "file_extension": ".py",
   "mimetype": "text/x-python",
   "name": "python",
   "nbconvert_exporter": "python",
   "pygments_lexer": "ipython3",
   "version": "3.6.7"
  },
  "latex_envs": {
   "LaTeX_envs_menu_present": true,
   "autoclose": false,
   "autocomplete": true,
   "bibliofile": "biblio.bib",
   "cite_by": "apalike",
   "current_citInitial": 1,
   "eqLabelWithNumbers": true,
   "eqNumInitial": 1,
   "hotkeys": {
    "equation": "Ctrl-E",
    "itemize": "Ctrl-I"
   },
   "labels_anchors": false,
   "latex_user_defs": false,
   "report_style_numbering": false,
   "user_envs_cfg": false
  },
  "toc": {
   "base_numbering": 1,
   "nav_menu": {
    "height": "170px",
    "width": "188px"
   },
   "number_sections": true,
   "sideBar": true,
   "skip_h1_title": false,
   "title_cell": "Table of Contents",
   "title_sidebar": "Contents",
   "toc_cell": false,
   "toc_position": {},
   "toc_section_display": true,
   "toc_window_display": true
  }
 },
 "nbformat": 4,
 "nbformat_minor": 2
}
