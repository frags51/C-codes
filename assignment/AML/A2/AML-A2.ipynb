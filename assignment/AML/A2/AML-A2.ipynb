{
 "cells": [
  {
   "cell_type": "markdown",
   "metadata": {},
   "source": [
    "# AML Assignment 2\n",
    "\n",
    "## Supreet Singh - CS16BTECH11038\n"
   ]
  },
  {
   "cell_type": "markdown",
   "metadata": {},
   "source": [
    "# Q1\n"
   ]
  },
  {
   "cell_type": "markdown",
   "metadata": {},
   "source": [
    "## (a) \n",
    "\n",
    "Using Mercer's Condition, \n",
    "\n",
    "$  K(x,z) = K1(x,z) + K2(x,z) $ has to be positive semidefinite, i.e. Integral (dx.dz. f(x).K(x,z).f(z)) >= 0.\n",
    "\n",
    "Since this condition is true for K1 and K2, it is also true for K1+K2 (simply add those two to get the required inequality). Hence, this K is a valid kernal function."
   ]
  },
  {
   "cell_type": "markdown",
   "metadata": {},
   "source": [
    "## (b)\n",
    "K(x,z) = K1(x,z) . K2(x,z)\n",
    "\n",
    "Let $ K1(x, z) = \\phi_1(x) . \\phi_1(z) $ \n",
    "\n",
    " $ K2(x, z) = \\phi_2(x) . \\phi_2(z) $ \n",
    " \n",
    "Then: (x, z are vectors)\n",
    "\n",
    "$$ K1 . K2 = (\\sum_i \\phi_1(x_i).\\phi_1(z_i)) . (\\sum_j \\phi_2(x_j).\\phi_2(z_j)) $$\n",
    "\n",
    "_note: Here $ \\phi_1(x_i) $ denotes i'th component of $ \\phi_1(x) $ _\n",
    "\n",
    "Which is equal to: \n",
    "\n",
    "$$ K1. K2 = \\sum_{i, j} \\phi_1(x_i).\\phi_2(x_j) . \\phi_1(z_i).\\phi_2(z_j) $$\n",
    "\n",
    "Set a new $$ \\phi_3(x_k) = \\phi_1(x_i).\\phi_2(x_j) $$ (similarly for z).\n",
    "\n",
    "We get, $$ K(x,z) = K1 . K2 = \\sum_k \\phi_3(x_k) . \\phi_3(z_k) = \\phi_3(x) . \\phi_3(z) $$\n",
    "\n",
    " **Hence, this K is decomposable into a dot product, and is a valid Kernel. **"
   ]
  },
  {
   "cell_type": "markdown",
   "metadata": {},
   "source": [
    "## (c)\n",
    "K(x,z) = h(K1(x,z))\n",
    "\n",
    "Using Mercer's Condition,\n",
    "\n",
    "$$ \\int dx.dz.f(x). K1(x,z) . f(z) \\ge 0 $$\n",
    "\n",
    "for any f(x) satisfying the criteria of Mercer's condition.\n",
    "\n",
    "$$ (\\forall a_i > 0 ): $$  \n",
    "\n",
    "$$ \\implies a_i \\int dx.dz.f(x). K1(x,z) . f(z) \\ge 0 $$\n",
    "\n",
    "\n",
    "\n",
    "$$ \\implies \\int dx.dz.f(x). a_i . K1(x,z) . f(z) \\ge 0 $$\n",
    "\n",
    "$$ \\implies \\int dx.dz.f(x). h(K1(x,z) . f(z) \\ge 0 $$\n",
    "\n",
    "where $$ h(K1) = a_0 + a_1 . K1 + a_2. K1^2 + ... $$ is a polynomial with positive coeffecients  $($a_i > 0 ) $\n",
    "\n",
    "Thus, ** This is a valid kernel ** because it satisfies mercer's condition."
   ]
  },
  {
   "cell_type": "markdown",
   "metadata": {},
   "source": [
    "## (d)\n",
    "\n",
    "K(x,z) = $ e^ {K1(x,z)} $\n",
    "\n",
    "$ e^{K1(x,z)} $  can be approximated to a polynomial of K1(x,z) using Taylor Series:\n",
    "\n",
    "$ e^x = 1 + x + \\frac{x^2}{2!} + ... $\n",
    "\n",
    "In part(c), it has been shown that a polynomial function of a valid kernel is also a valid kernel. \n",
    "\n",
    "Thus, **this is also a valid kernel.**"
   ]
  },
  {
   "cell_type": "markdown",
   "metadata": {},
   "source": [
    "## (e)\n",
    "K(x, z) = exp ($\\frac{-||x - z||^2}{\\sigma^2} $)\n",
    "\n",
    "It is known that K1(x,z) = exp ($\\frac{-||x - z||^2}{2.\\sigma^2} $) is a valid kernel (mentioned in slides).\n",
    "\n",
    "$ K(x,z) = (K1(x,z))^2$.\n",
    "\n",
    "Thus, using part (b), ** this is also a valid kernel. **"
   ]
  },
  {
   "cell_type": "code",
   "execution_count": null,
   "metadata": {},
   "outputs": [],
   "source": []
  }
 ],
 "metadata": {
  "kernelspec": {
   "display_name": "Python 3",
   "language": "python",
   "name": "python3"
  },
  "language_info": {
   "codemirror_mode": {
    "name": "ipython",
    "version": 3
   },
   "file_extension": ".py",
   "mimetype": "text/x-python",
   "name": "python",
   "nbconvert_exporter": "python",
   "pygments_lexer": "ipython3",
   "version": "3.6.7"
  },
  "toc": {
   "base_numbering": 1,
   "nav_menu": {},
   "number_sections": true,
   "sideBar": true,
   "skip_h1_title": false,
   "title_cell": "Table of Contents",
   "title_sidebar": "Contents",
   "toc_cell": false,
   "toc_position": {},
   "toc_section_display": true,
   "toc_window_display": true
  }
 },
 "nbformat": 4,
 "nbformat_minor": 2
}
