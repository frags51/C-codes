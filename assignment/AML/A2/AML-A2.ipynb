{
 "cells": [
  {
   "cell_type": "markdown",
   "metadata": {},
   "source": [
    "# AML Assignment 2\n",
    "\n",
    "## Supreet Singh - CS16BTECH11038\n",
    "\n",
    "(Done in Python 3)"
   ]
  },
  {
   "cell_type": "markdown",
   "metadata": {},
   "source": [
    "# Q1\n"
   ]
  },
  {
   "cell_type": "markdown",
   "metadata": {},
   "source": [
    "## (a) \n",
    "\n",
    "Using Mercer's Condition, \n",
    "\n",
    "$  K(x,z) = K1(x,z) + K2(x,z) $ has to be positive semidefinite, i.e. Integral (dx.dz. f(x).K(x,z).f(z)) >= 0.\n",
    "\n",
    "Since this condition is true for K1 and K2, it is also true for K1+K2 (simply add those two to get the required inequality). Hence, this K is a valid kernal function."
   ]
  },
  {
   "cell_type": "markdown",
   "metadata": {},
   "source": [
    "## (b)\n",
    "K(x,z) = K1(x,z) . K2(x,z)\n",
    "\n",
    "Let $ K1(x, z) = \\phi_1(x) . \\phi_1(z) $ \n",
    "\n",
    " $ K2(x, z) = \\phi_2(x) . \\phi_2(z) $ \n",
    " \n",
    "Then: (x, z are vectors)\n",
    "\n",
    "$$ K1 . K2 = (\\sum_i \\phi_1(x_i).\\phi_1(z_i)) . (\\sum_j \\phi_2(x_j).\\phi_2(z_j)) $$\n",
    "\n",
    "_note: Here $ \\phi_1(x_i) $ denotes i'th component of $ \\phi_1(x) $ _\n",
    "\n",
    "Which is equal to: \n",
    "\n",
    "$$ K1. K2 = \\sum_{i, j} \\phi_1(x_i).\\phi_2(x_j) . \\phi_1(z_i).\\phi_2(z_j) $$\n",
    "\n",
    "Set a new $$ \\phi_3(x_k) = \\phi_1(x_i).\\phi_2(x_j) $$ (similarly for z).\n",
    "\n",
    "We get, $$ K(x,z) = K1 . K2 = \\sum_k \\phi_3(x_k) . \\phi_3(z_k) = \\phi_3(x) . \\phi_3(z) $$\n",
    "\n",
    " **Hence, this K is decomposable into a dot product, and is a valid Kernel. **"
   ]
  },
  {
   "cell_type": "markdown",
   "metadata": {},
   "source": [
    "## (c)\n",
    "K(x,z) = h(K1(x,z))\n",
    "\n",
    "Using Mercer's Condition,\n",
    "\n",
    "$$ \\int dx.dz.f(x). K1(x,z) . f(z) \\ge 0 $$\n",
    "\n",
    "for any f(x) satisfying the criteria of Mercer's condition.\n",
    "\n",
    "$$ (\\forall a_i > 0 ): $$  \n",
    "\n",
    "$$ \\implies a_i \\int dx.dz.f(x). K1(x,z) . f(z) \\ge 0 $$\n",
    "\n",
    "\n",
    "\n",
    "$$ \\implies \\int dx.dz.f(x). a_i . K1(x,z) . f(z) \\ge 0 $$\n",
    "\n",
    "$$ \\implies \\int dx.dz.f(x). h(K1(x,z) . f(z) \\ge 0 $$\n",
    "\n",
    "where $$ h(K1) = a_0 + a_1 . K1 + a_2. K1^2 + ... $$ is a polynomial with positive coeffecients  $(a_i > 0 ) $ (Using (a) part for addition of kernel functions resulting in valid kernel function)\n",
    "\n",
    "Thus, ** This is a valid kernel ** because it satisfies mercer's condition."
   ]
  },
  {
   "cell_type": "markdown",
   "metadata": {},
   "source": [
    "## (d)\n",
    "\n",
    "K(x,z) = $ e^ {K1(x,z)} $\n",
    "\n",
    "$ e^{K1(x,z)} $  can be approximated to a polynomial of K1(x,z) using Taylor Series:\n",
    "\n",
    "$ e^x = 1 + x + \\frac{x^2}{2!} + ... $\n",
    "\n",
    "In part(c), it has been shown that a polynomial function of a valid kernel is also a valid kernel. \n",
    "\n",
    "Thus, **this is also a valid kernel.**"
   ]
  },
  {
   "cell_type": "markdown",
   "metadata": {},
   "source": [
    "## (e)\n",
    "K(x, z) = exp ($\\frac{-||x - z||^2}{\\sigma^2} $)\n",
    "\n",
    "It is known that K1(x,z) = exp ($\\frac{-||x - z||^2}{2.\\sigma^2} $) is a valid kernel (mentioned in slides).\n",
    "\n",
    "$ K(x,z) = (K1(x,z))^2$.\n",
    "\n",
    "Thus, using part (b), ** this is also a valid kernel. **"
   ]
  },
  {
   "cell_type": "markdown",
   "metadata": {},
   "source": [
    "# Q2\n"
   ]
  },
  {
   "cell_type": "markdown",
   "metadata": {},
   "source": [
    "# Q3\n"
   ]
  },
  {
   "cell_type": "markdown",
   "metadata": {},
   "source": [
    "# Q4"
   ]
  },
  {
   "cell_type": "code",
   "execution_count": 2,
   "metadata": {},
   "outputs": [],
   "source": [
    "# Loading Data!\n",
    "import numpy as np\n",
    "import urllib.request\n",
    "\n",
    "# Open the url for reading\n",
    "f1 = urllib.request.urlopen(\"http://www.amlbook.com/data/zip/features.train\")\n",
    "# fast reading function!\n",
    "rawTrainSet = np.loadtxt(f1)\n",
    "\n",
    "trainSet_X = []\n",
    "trainSet_y = []\n",
    "# Filter out only 1s/5s\n",
    "for x in rawTrainSet:\n",
    "    if x[0]==1.0 or x[0]==5.0 :\n",
    "        trainSet_X.append(x[1:])\n",
    "        trainSet_y.append(x[0])\n",
    "#print(trainSet_X)\n",
    "\n",
    "# loead test data\n",
    "f1 = urllib.request.urlopen(\"http://www.amlbook.com/data/zip/features.test\")\n",
    "rawTestSet = np.loadtxt(f1)\n",
    "testSet_X = []\n",
    "testSet_y = []\n",
    "for x in rawTestSet:\n",
    "    if x[0]==1.0 or x[0]==5.0 :\n",
    "        testSet_X.append(x[1:])\n",
    "        testSet_y.append(x[0])\n"
   ]
  },
  {
   "cell_type": "markdown",
   "metadata": {},
   "source": [
    "## (a)\n",
    "Using linear kernel, and all of training data and test data."
   ]
  },
  {
   "cell_type": "code",
   "execution_count": 3,
   "metadata": {},
   "outputs": [
    {
     "name": "stdout",
     "output_type": "stream",
     "text": [
      "Accuracy is :  97.87735849056604\n",
      "number of support vectors [Class +1, Class -1] is:  [14 14]\n"
     ]
    }
   ],
   "source": [
    "# training && accuracy reporting!\n",
    "from sklearn import svm\n",
    "from sklearn.metrics import accuracy_score\n",
    "\n",
    "mySvm = svm.SVC(kernel='linear')\n",
    "mySvm.fit(trainSet_X, trainSet_y)\n",
    "\n",
    "pred = mySvm.predict(testSet_X)\n",
    "print(\"Accuracy is : \", accuracy_score(testSet_y, pred)*100)\n",
    "print(\"number of support vectors [Class +1, Class -1] is: \", mySvm.n_support_)"
   ]
  },
  {
   "cell_type": "markdown",
   "metadata": {},
   "source": [
    "## (b)"
   ]
  },
  {
   "cell_type": "markdown",
   "metadata": {},
   "source": [
    "### Training Using first 50 data points:"
   ]
  },
  {
   "cell_type": "code",
   "execution_count": 4,
   "metadata": {},
   "outputs": [
    {
     "name": "stdout",
     "output_type": "stream",
     "text": [
      "Accuracy is :  98.11320754716981 %\n",
      "number of support vectors [Class +1, Class -1] is:  [1 1]\n"
     ]
    }
   ],
   "source": [
    "from sklearn import svm\n",
    "from sklearn.metrics import accuracy_score\n",
    "\n",
    "mySvm = svm.SVC(kernel='linear')\n",
    "mySvm.fit(trainSet_X[:50], trainSet_y[:50])\n",
    "\n",
    "pred = mySvm.predict(testSet_X)\n",
    "print(\"Accuracy is : \", accuracy_score(testSet_y, pred)*100, \"%\")\n",
    "print(\"number of support vectors [Class +1, Class -1] is: \", mySvm.n_support_)"
   ]
  },
  {
   "cell_type": "markdown",
   "metadata": {},
   "source": [
    "### Using first 100 data points"
   ]
  },
  {
   "cell_type": "code",
   "execution_count": 71,
   "metadata": {},
   "outputs": [
    {
     "name": "stdout",
     "output_type": "stream",
     "text": [
      "Accuracy is :  98.11320754716981 %\n",
      "number of support vectors [Class +1, Class -1] is:  [2 2]\n"
     ]
    }
   ],
   "source": [
    "from sklearn import svm\n",
    "from sklearn.metrics import accuracy_score\n",
    "\n",
    "mySvm = svm.SVC(kernel='linear')\n",
    "mySvm.fit(trainSet_X[:100], trainSet_y[:100])\n",
    "\n",
    "pred = mySvm.predict(testSet_X)\n",
    "print(\"Accuracy is : \", accuracy_score(testSet_y, pred)*100, \"%\")\n",
    "print(\"number of support vectors [Class +1, Class -1] is: \", mySvm.n_support_)"
   ]
  },
  {
   "cell_type": "markdown",
   "metadata": {},
   "source": [
    "### Using first 200 data points"
   ]
  },
  {
   "cell_type": "code",
   "execution_count": 72,
   "metadata": {},
   "outputs": [
    {
     "name": "stdout",
     "output_type": "stream",
     "text": [
      "Accuracy is :  98.11320754716981 %\n",
      "number of support vectors [Class +1, Class -1] is:  [4 4]\n"
     ]
    }
   ],
   "source": [
    "from sklearn import svm\n",
    "from sklearn.metrics import accuracy_score\n",
    "\n",
    "mySvm = svm.SVC(kernel='linear')\n",
    "mySvm.fit(trainSet_X[:200], trainSet_y[:200])\n",
    "\n",
    "pred = mySvm.predict(testSet_X)\n",
    "print(\"Accuracy is : \", accuracy_score(testSet_y, pred)*100, \"%\")\n",
    "print(\"number of support vectors [Class +1, Class -1] is: \", mySvm.n_support_)"
   ]
  },
  {
   "cell_type": "markdown",
   "metadata": {},
   "source": [
    "### Using first 800 data points"
   ]
  },
  {
   "cell_type": "code",
   "execution_count": 73,
   "metadata": {},
   "outputs": [
    {
     "name": "stdout",
     "output_type": "stream",
     "text": [
      "Accuracy is :  98.11320754716981 %\n",
      "number of support vectors [Class +1, Class -1] is:  [7 7]\n"
     ]
    }
   ],
   "source": [
    "from sklearn import svm\n",
    "from sklearn.metrics import accuracy_score\n",
    "\n",
    "mySvm = svm.SVC(kernel='linear')\n",
    "mySvm.fit(trainSet_X[:800], trainSet_y[:800])\n",
    "\n",
    "pred = mySvm.predict(testSet_X)\n",
    "print(\"Accuracy is : \", accuracy_score(testSet_y, pred)*100, \"%\")\n",
    "print(\"number of support vectors [Class +1, Class -1] is: \", mySvm.n_support_)"
   ]
  },
  {
   "cell_type": "markdown",
   "metadata": {},
   "source": [
    "## (c) Comparing polynomial kernels with degree = 2 and 5"
   ]
  },
  {
   "cell_type": "code",
   "execution_count": 5,
   "metadata": {},
   "outputs": [
    {
     "name": "stdout",
     "output_type": "stream",
     "text": [
      "C=  0.0001\n",
      "Training Error for degree Q = 2  is :  1.8577834721332454 %\n",
      "Training Error for degree Q = 5  is :  0.5124919923126248 %\n"
     ]
    }
   ],
   "source": [
    "from sklearn import svm\n",
    "from sklearn.metrics import accuracy_score\n",
    "\n",
    "c = 0.0001\n",
    "\n",
    "mySvm_deg2 = svm.SVC(kernel='poly', degree=2, gamma='auto', C=c, coef0=1)\n",
    "mySvm_deg2.fit(trainSet_X, trainSet_y)\n",
    "\n",
    "mySvm_deg5 = svm.SVC(kernel='poly', degree=5,gamma='auto', C=c, coef0=1)\n",
    "mySvm_deg5.fit(trainSet_X, trainSet_y)\n",
    "\n",
    "pred2 = mySvm_deg2.predict(trainSet_X)\n",
    "pred5 = mySvm_deg5.predict(trainSet_X)\n",
    "\n",
    "print(\"C= \", c)\n",
    "print(\"Training Error for degree Q = 2  is : \", (1-accuracy_score(trainSet_y, pred2))*100, \"%\")\n",
    "print(\"Training Error for degree Q = 5  is : \", (1-accuracy_score(trainSet_y, pred5))*100, \"%\")"
   ]
  },
  {
   "cell_type": "markdown",
   "metadata": {},
   "source": [
    "(1) **False**. Training Error is **lower** for Q=5 compared to Q=2 for C = 0.0001"
   ]
  },
  {
   "cell_type": "code",
   "execution_count": 7,
   "metadata": {},
   "outputs": [
    {
     "name": "stdout",
     "output_type": "stream",
     "text": [
      "C=  0.001\n",
      "Support Vectors for degree Q = 2  is :  142\n",
      "Support Vectors for degree Q = 5  is :  26\n"
     ]
    }
   ],
   "source": [
    "from sklearn import svm\n",
    "from sklearn.metrics import accuracy_score\n",
    "\n",
    "c = 0.001\n",
    "\n",
    "mySvm_deg2 = svm.SVC(kernel='poly', degree=2, gamma='auto', C=c, coef0=1)\n",
    "mySvm_deg2.fit(trainSet_X, trainSet_y)\n",
    "\n",
    "mySvm_deg5 = svm.SVC(kernel='poly', degree=5,gamma='auto', C=c, coef0=1)\n",
    "mySvm_deg5.fit(trainSet_X, trainSet_y)\n",
    "\n",
    "print(\"C= \", c)\n",
    "print(\"Support Vectors for degree Q = 2  is : \", mySvm_deg2.n_support_.sum())\n",
    "print(\"Support Vectors for degree Q = 5  is : \", mySvm_deg5.n_support_.sum())\n"
   ]
  },
  {
   "cell_type": "markdown",
   "metadata": {},
   "source": [
    "(2) **True** Number of support vectors is lower at Q = 5 for c = 0.001."
   ]
  },
  {
   "cell_type": "code",
   "execution_count": 8,
   "metadata": {},
   "outputs": [
    {
     "name": "stdout",
     "output_type": "stream",
     "text": [
      "C=  0.01\n",
      "Training Error for degree Q = 2  is :  0.4484304932735439 %\n",
      "Training Error for degree Q = 5  is :  0.384368994234463 %\n"
     ]
    }
   ],
   "source": [
    "from sklearn import svm\n",
    "from sklearn.metrics import accuracy_score\n",
    "\n",
    "c = 0.01\n",
    "\n",
    "mySvm_deg2 = svm.SVC(kernel='poly', degree=2, gamma='auto', C=c, coef0=1)\n",
    "mySvm_deg2.fit(trainSet_X, trainSet_y)\n",
    "\n",
    "mySvm_deg5 = svm.SVC(kernel='poly', degree=5,gamma='auto', C=c, coef0=1)\n",
    "mySvm_deg5.fit(trainSet_X, trainSet_y)\n",
    "\n",
    "pred2 = mySvm_deg2.predict(trainSet_X)\n",
    "pred5 = mySvm_deg5.predict(trainSet_X)\n",
    "\n",
    "print(\"C= \", c)\n",
    "print(\"Training Error for degree Q = 2  is : \", (1-accuracy_score(trainSet_y, pred2))*100, \"%\")\n",
    "print(\"Training Error for degree Q = 5  is : \", (1-accuracy_score(trainSet_y, pred5))*100, \"%\")"
   ]
  },
  {
   "cell_type": "markdown",
   "metadata": {},
   "source": [
    "(3) ** False ** Training error is lower in case of Q=5 and Q=2 for c = 0.01."
   ]
  },
  {
   "cell_type": "code",
   "execution_count": 11,
   "metadata": {},
   "outputs": [
    {
     "name": "stdout",
     "output_type": "stream",
     "text": [
      "C=  1\n",
      "Test error for degree Q=2 is :  1.8867924528301883 %\n",
      "Test error for degree Q=5 is :  1.8867924528301883 %\n"
     ]
    }
   ],
   "source": [
    "from sklearn import svm\n",
    "from sklearn.metrics import accuracy_score\n",
    "\n",
    "c = 1\n",
    "\n",
    "mySvm_deg2 = svm.SVC(kernel='poly', degree=2, gamma='auto', C=c, coef0=1)\n",
    "mySvm_deg2.fit(trainSet_X, trainSet_y)\n",
    "\n",
    "mySvm_deg5 = svm.SVC(kernel='poly', degree=5,gamma='auto', C=c, coef0=1)\n",
    "mySvm_deg5.fit(trainSet_X, trainSet_y)\n",
    "\n",
    "pred2 = mySvm_deg2.predict(testSet_X)\n",
    "pred5 = mySvm_deg5.predict(testSet_X)\n",
    "\n",
    "print(\"C= \", c)\n",
    "print(\"Test error for degree Q=2 is : \",(1-accuracy_score(testSet_y, pred2))*100, \"%\")\n",
    "print(\"Test error for degree Q=5 is : \", (1-accuracy_score(testSet_y, pred5))*100, \"%\")"
   ]
  },
  {
   "cell_type": "markdown",
   "metadata": {},
   "source": [
    "(4). ** False ** Test error is same @ Q=5 and Q=2 for C = 1."
   ]
  },
  {
   "cell_type": "markdown",
   "metadata": {},
   "source": [
    "## (d)"
   ]
  },
  {
   "cell_type": "code",
   "execution_count": 78,
   "metadata": {},
   "outputs": [
    {
     "name": "stdout",
     "output_type": "stream",
     "text": [
      "C is:  0.01\n",
      "Test Error is :  2.1226415094339646 %\n",
      "Training Error is :  0.384368994234463 %\n",
      "---------------\n",
      "C is:  1\n",
      "Test Error is :  2.1226415094339646 %\n",
      "Training Error is :  0.4484304932735439 %\n",
      "---------------\n",
      "C is:  100\n",
      "Test Error is :  1.8867924528301883 %\n",
      "Training Error is :  0.32030749519538215 %\n",
      "---------------\n",
      "C is:  10000\n",
      "Test Error is :  1.8867924528301883 %\n",
      "Training Error is :  0.2562459961563124 %\n",
      "---------------\n",
      "C is:  1000000\n",
      "Test Error is :  2.1226415094339646 %\n",
      "Training Error is :  0.12812299807815064 %\n",
      "---------------\n"
     ]
    }
   ],
   "source": [
    "from sklearn import svm\n",
    "from sklearn.metrics import accuracy_score\n",
    "\n",
    "for i in [0.01, 1, 100, 10000, 1000000]:\n",
    "    mySvm = svm.SVC(kernel='rbf', C=i, gamma='auto')\n",
    "    mySvm.fit(trainSet_X, trainSet_y)\n",
    "    print(\"C is: \", i)\n",
    "    pred = mySvm.predict(testSet_X)\n",
    "    pred_train = mySvm.predict(trainSet_X)\n",
    "    print(\"Test Error is : \", (1-accuracy_score(testSet_y, pred))*100, \"%\")\n",
    "    print(\"Training Error is : \", (1-accuracy_score(trainSet_y, pred_train))*100, \"%\")\n",
    "    print(\"---------------\")"
   ]
  },
  {
   "cell_type": "markdown",
   "metadata": {},
   "source": [
    "Lowest training error: ** C = 10^6 **\n",
    "\n",
    "Lowest test error: ** C = 100 or 10^4 ** "
   ]
  },
  {
   "cell_type": "markdown",
   "metadata": {},
   "source": [
    "# Q(5)\n",
    "\n",
    "## (a)"
   ]
  },
  {
   "cell_type": "code",
   "execution_count": 32,
   "metadata": {},
   "outputs": [
    {
     "name": "stdout",
     "output_type": "stream",
     "text": [
      "6000\n"
     ]
    }
   ],
   "source": [
    "# Loading Data!\n",
    "import numpy as np\n",
    "import urllib.request\n",
    "\n",
    "# Open the url for reading\n",
    "f1 = open(\"gisette_train.labels\", \"r\")\n",
    "# fast reading function!\n",
    "_5_trainSet_y = np.loadtxt(f1)\n",
    "\n",
    "print(len(trainSet_y))\n",
    "    "
   ]
  },
  {
   "cell_type": "code",
   "execution_count": 36,
   "metadata": {},
   "outputs": [],
   "source": [
    "f1 = open(\"gisette_valid.labels\", \"r\")\n",
    "_5_validSet_y = np.loadtxt(f1)\n",
    "\n",
    "#print(_5_validSet_y)"
   ]
  },
  {
   "cell_type": "code",
   "execution_count": 37,
   "metadata": {},
   "outputs": [],
   "source": [
    "f1 = open(\"gisette_valid.data\", \"r\")\n",
    "_5_validSet_X = np.loadtxt(f1)\n"
   ]
  },
  {
   "cell_type": "code",
   "execution_count": 38,
   "metadata": {},
   "outputs": [
    {
     "name": "stdout",
     "output_type": "stream",
     "text": [
      "6000\n"
     ]
    }
   ],
   "source": [
    "f1 = open(\"gisette_train.data\", \"r\")\n",
    "_5_trainSet_X = np.loadtxt(f1)\n",
    "print(len(_5_trainSet_X))"
   ]
  },
  {
   "cell_type": "code",
   "execution_count": 33,
   "metadata": {},
   "outputs": [
    {
     "data": {
      "text/plain": [
       "SVC(C=1.0, cache_size=200, class_weight=None, coef0=0.0,\n",
       "  decision_function_shape='ovr', degree=3, gamma='auto_deprecated',\n",
       "  kernel='linear', max_iter=-1, probability=False, random_state=None,\n",
       "  shrinking=True, tol=0.001, verbose=False)"
      ]
     },
     "execution_count": 33,
     "metadata": {},
     "output_type": "execute_result"
    }
   ],
   "source": [
    "from sklearn import svm\n",
    "from sklearn.metrics import accuracy_score\n",
    "\n",
    "mySvm_5 = svm.SVC(kernel='linear')\n",
    "mySvm_5.fit(_5_trainSet_X, _5_trainSet_y)\n"
   ]
  },
  {
   "cell_type": "code",
   "execution_count": 39,
   "metadata": {},
   "outputs": [
    {
     "name": "stdout",
     "output_type": "stream",
     "text": [
      "Test Error is :  2.400000000000002 %\n",
      "Training Error is :  0.0 %\n",
      "---------------\n"
     ]
    }
   ],
   "source": [
    "pred = mySvm_5.predict(_5_validSet_X)\n",
    "pred_train = mySvm_5.predict(_5_trainSet_X)\n",
    "print(\"Test Error is : \", (1-accuracy_score(_5_validSet_y, pred))*100, \"%\")\n",
    "print(\"Training Error is : \", (1-accuracy_score(_5_trainSet_y, pred_train))*100, \"%\")\n",
    "print(\"---------------\")"
   ]
  },
  {
   "cell_type": "code",
   "execution_count": 40,
   "metadata": {},
   "outputs": [
    {
     "name": "stdout",
     "output_type": "stream",
     "text": [
      "Number of support vectors:  1084\n"
     ]
    }
   ],
   "source": [
    "print(\"Number of support vectors: \", mySvm_5.n_support_.sum())"
   ]
  },
  {
   "cell_type": "markdown",
   "metadata": {},
   "source": []
  }
 ],
 "metadata": {
  "kernelspec": {
   "display_name": "Python 3",
   "language": "python",
   "name": "python3"
  },
  "language_info": {
   "codemirror_mode": {
    "name": "ipython",
    "version": 3
   },
   "file_extension": ".py",
   "mimetype": "text/x-python",
   "name": "python",
   "nbconvert_exporter": "python",
   "pygments_lexer": "ipython3",
   "version": "3.6.7"
  },
  "toc": {
   "base_numbering": 1,
   "nav_menu": {},
   "number_sections": true,
   "sideBar": true,
   "skip_h1_title": false,
   "title_cell": "Table of Contents",
   "title_sidebar": "Contents",
   "toc_cell": false,
   "toc_position": {},
   "toc_section_display": true,
   "toc_window_display": true
  }
 },
 "nbformat": 4,
 "nbformat_minor": 2
}
